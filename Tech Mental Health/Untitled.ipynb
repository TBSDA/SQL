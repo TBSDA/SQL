{
 "cells": [
  {
   "cell_type": "markdown",
   "id": "concrete-istanbul",
   "metadata": {},
   "source": [
    "# Mental Health in the Tech Industry Data Presentation and Visualization"
   ]
  },
  {
   "cell_type": "markdown",
   "id": "complex-shannon",
   "metadata": {},
   "source": [
    "Let's create a class for data presentation and visualization based on the Data_Processing module which gather and process the data form mental_health database."
   ]
  },
  {
   "cell_type": "code",
   "execution_count": 15,
   "id": "material-commitment",
   "metadata": {},
   "outputs": [],
   "source": [
    "import numpy as np\n",
    "import pandas as pd\n",
    "from matplotlib import pyplot as plt\n",
    "import seaborn as sns\n",
    "from Data_Processing import DataProcessing as dp"
   ]
  },
  {
   "cell_type": "code",
   "execution_count": 64,
   "id": "equipped-morgan",
   "metadata": {},
   "outputs": [],
   "source": [
    "class DataPresentation:\n",
    "    ''' Class for data presentation and visualization for Mental Health in the Tech Industry Database.\n",
    "        The DataProcessing class from Data_Processing module is used for gathering and processing the data'''\n",
    "    \n",
    "    def __init__(self, path, db_name):\n",
    "        self.collector = dp(path, db_name)\n",
    "    \n",
    "    def show_answers_pct_for_questions(self, q_ids):\n",
    "        '''  Show percentage of answers on given questions. '''\n",
    "        for qid in q_ids:\n",
    "            df = self.get_answers_pct(qid)\n",
    "            print(df.name)\n",
    "            print(df)\n",
    "            print()\n",
    "    \n",
    "    def get_answers_pct(self, q_id):\n",
    "        ''' Get percentage of answers on given question.\n",
    "            Returns data frame answers*[answers [%], answers no]'''\n",
    "        q_text = self.collector.get_question_text(q_id)\n",
    "        df = pd.DataFrame(columns=['answers [%]', 'answers no'])\n",
    "        df.name = f'Question {q_id}. {q_text}'\n",
    "        for anspct, anssum in zip(self.collector.get_answers_distribution_for_q(q_id), self.collector.get_users_no_per_answer(q_id)):\n",
    "            answer = self.change_zero_one_to_no_yes(anspct[0])\n",
    "            df.loc[answer] = [anspct[1], anssum[1]]\n",
    "        return df\n",
    "    \n",
    "    @staticmethod\n",
    "    def change_zero_one_to_no_yes(answer):\n",
    "        ''' Change zero or one to no or yes.\n",
    "            That makes the data presentation more readable. '''\n",
    "        if str(answer) == '0':\n",
    "            return 'no'\n",
    "        elif str(answer) == '1':\n",
    "            return 'yes'\n",
    "        else:\n",
    "            return answer\n",
    "\n",
    "    def show_answers_pct_yearly_for_questions(self, q_ids):\n",
    "        '''  Show percentage of answers on given questions yearly. '''\n",
    "        for qid in q_ids:\n",
    "            df = self.get_answers_pct_yearly(qid)\n",
    "            print(df.name)\n",
    "            print(df)\n",
    "            print()\n",
    "        \n",
    "    def get_answers_pct_yearly(self, q_id):\n",
    "        ''' Get percentage of answers on given question yearly.\n",
    "            Returns data frame answers*years'''\n",
    "        q_text = self.collector.get_question_text(q_id)\n",
    "        df = pd.DataFrame()\n",
    "        df.name = f'Question {q_id}. {q_text} [%]'\n",
    "        for answer, year, pct in self.collector.get_answers_distribution_for_q_by_years(q_id):\n",
    "            answer = self.change_zero_one_to_no_yes(answer)\n",
    "            df.loc[answer, year] = pct\n",
    "        return df\n",
    "    \n",
    "    \n",
    "    def show_positive_answers_ratio_by_categories_for_questions(self, q_ids):\n",
    "        ''' Show the ratio of positive answers on one questions by categories from another questions.\n",
    "            Each element of q_ids list should includes two question:\n",
    "            first one determine the categories\n",
    "            second one the actual question, e.g. [8, 7].'''\n",
    "        for cat_q, pos_q in q_ids:\n",
    "            df = self.get_positive_answers_ratio_by_categories(cat_q, pos_q)\n",
    "            cat_text = self.collector.get_question_text(cat_q)\n",
    "            pos_text = self.collector.get_question_text(pos_q)\n",
    "            print(f'Categories determined by question {cat_q}:')\n",
    "            print(cat_text)\n",
    "            print(f'Ratio of the following question {pos_q}:')\n",
    "            print(pos_text)\n",
    "            print(df)\n",
    "            print()\n",
    "        \n",
    "        \n",
    "    def get_positive_answers_ratio_by_categories(self, q_cat, q_pos):\n",
    "        ''' Get the ratio of positive answers on one question (q_pos) by categories from another question (q_cat).\n",
    "            Positive means 1 or \"yes\". q_pos needs to be divalent otherwise the results \n",
    "            Returns the data frame categories*[answers [%], answers no]'''\n",
    "        answers = [answer[0] for answer in test.get_all_answers_per_q(q_pos)]\n",
    "        columns = [self.change_zero_one_to_no_yes(answer)+' [%]' for answer in answers]\n",
    "        tabs = []\n",
    "        answers_no = []\n",
    "        df = pd.DataFrame(columns=columns+['answers no'])\n",
    "        for answer in answers:\n",
    "            col = self.change_zero_one_to_no_yes(answer)+' [%]'\n",
    "            tabs.append(self.collector.get_some_answer_no_based_on_answer_and_q(q_cat, q_pos, answer))\n",
    "            for row in self.collector.get_some_answer_no_based_on_answer_and_q(q_cat, q_pos, answer):\n",
    "                cat = self.change_zero_one_to_no_yes(row[0])\n",
    "                try:\n",
    "                    df.loc[cat, col] += row[1]\n",
    "                except KeyError:\n",
    "                    df.loc[cat] = 0\n",
    "                    df.loc[cat, col] += row[1]\n",
    "        df['answers no'] = df[columns].sum(axis=1)\n",
    "        df[columns] = df[columns].divide(df['answers no'], axis=0)*100\n",
    "        df[columns] = df[columns].apply(lambda x: round(x.astype('float'), 2), axis=1)\n",
    "        return df"
   ]
  },
  {
   "cell_type": "code",
   "execution_count": 65,
   "id": "absent-politics",
   "metadata": {},
   "outputs": [],
   "source": [
    "presenter = DataPresentation('DB/', 'mental_health')"
   ]
  },
  {
   "cell_type": "code",
   "execution_count": 37,
   "id": "upset-satisfaction",
   "metadata": {},
   "outputs": [
    {
     "name": "stdout",
     "output_type": "stream",
     "text": [
      "Question 6. Do you have a family history of mental illness?\n",
      "              answers [%]  answers no\n",
      "I don't know        15.39       649.0\n",
      "No                  40.33      1701.0\n",
      "Yes                 44.29      1868.0\n",
      "\n",
      "Question 7. Have you ever sought treatment for a mental health disorder from a mental health professional?\n",
      "     answers [%]  answers no\n",
      "no         42.82      1806.0\n",
      "yes        57.18      2412.0\n",
      "\n"
     ]
    }
   ],
   "source": [
    "presenter.show_answers_pct_for_questions([6, 7])"
   ]
  },
  {
   "cell_type": "code",
   "execution_count": 45,
   "id": "increased-contact",
   "metadata": {},
   "outputs": [
    {
     "name": "stdout",
     "output_type": "stream",
     "text": [
      "Question 2. What is your gender? [%]\n",
      "             2014   2016   2017   2018   2019\n",
      "Female      19.60  23.45  28.84  29.98  27.84\n",
      "Male        78.65  73.76  66.40  63.79  64.77\n",
      "Non-binary   0.08   0.42   0.79   0.48   1.14\n",
      "Other        1.67   2.16   2.25   5.04   4.83\n",
      "n/a           NaN   0.21   1.72   0.72   1.42\n",
      "\n",
      "Question 6. Do you have a family history of mental illness? [%]\n",
      "               2014   2016   2017   2018   2019\n",
      "No            60.95  34.05  29.63  27.34  30.40\n",
      "Yes           39.05  46.76  44.84  49.88  45.17\n",
      "I don't know    NaN  19.19  25.53  22.78  24.43\n",
      "\n",
      "Question 7. Have you ever sought treatment for a mental health disorder from a mental health professional? [%]\n",
      "      2014   2016   2017   2018   2019\n",
      "no   49.44  41.45  39.68  36.93  38.35\n",
      "yes  50.56  58.55  60.32  63.07  61.65\n",
      "\n"
     ]
    }
   ],
   "source": [
    "presenter.show_answers_pct_yearly_for_questions([2, 6, 7])"
   ]
  },
  {
   "cell_type": "code",
   "execution_count": 66,
   "id": "abandoned-intent",
   "metadata": {},
   "outputs": [
    {
     "name": "stdout",
     "output_type": "stream",
     "text": [
      "Categories determined by question 2:\n",
      "What is your gender?\n",
      "Ratio of the following question 7:\n",
      "Have you ever sought treatment for a mental health disorder from a mental health professional?\n",
      "            yes [%]  no [%]  answers no\n",
      "Female        72.95   27.05      1024.0\n",
      "Male          50.92   49.08      3044.0\n",
      "Non-binary    84.21   15.79        19.0\n",
      "Other         77.57   22.43       107.0\n",
      "n/a           66.67   33.33        24.0\n",
      "\n",
      "Categories determined by question 2:\n",
      "What is your gender?\n",
      "Ratio of the following question 33:\n",
      "Do you currently have a mental health disorder?\n",
      "            No [%]  Yes [%]  Possibly [%]  Don't Know [%]  answers no\n",
      "Female       25.10    54.57         17.25            3.09       777.0\n",
      "Male         36.78    35.80         22.75            4.68      2053.0\n",
      "Other        15.12    58.14         24.42            2.33        86.0\n",
      "n/a          25.00    50.00         16.67            8.33        24.0\n",
      "Non-binary    0.00    88.89         11.11            0.00        18.0\n",
      "\n",
      "Categories determined by question 2:\n",
      "What is your gender?\n",
      "Ratio of the following question 34:\n",
      "Have you ever been diagnosed with a mental health disorder?\n",
      "            Yes [%]  No [%]  n/a [%]  answers no\n",
      "Female        58.82   15.83    25.35       777.0\n",
      "Male          40.23   29.18    30.59      2053.0\n",
      "Non-binary    83.33    5.56    11.11        18.0\n",
      "Other         61.63   10.47    27.91        86.0\n",
      "n/a           50.00    0.00    50.00        24.0\n",
      "\n"
     ]
    }
   ],
   "source": [
    "presenter.show_positive_answers_ratio_by_categories_for_questions([[2, 7], [2, 33], [2, 34]])"
   ]
  },
  {
   "cell_type": "code",
   "execution_count": 67,
   "id": "italic-portugal",
   "metadata": {},
   "outputs": [
    {
     "name": "stdout",
     "output_type": "stream",
     "text": [
      "Categories determined by question 7:\n",
      "Have you ever sought treatment for a mental health disorder from a mental health professional?\n",
      "Ratio of the following question 32:\n",
      "Have you had a mental health disorder in the past?\n",
      "     Yes [%]  Possibly [%]  No [%]  n/a [%]  Don't Know [%]  answers no\n",
      "no      8.37         21.13   64.41     0.25            5.83      1183.0\n",
      "yes    74.25         15.27    7.55     0.68            2.25      1775.0\n",
      "\n"
     ]
    }
   ],
   "source": [
    "presenter.show_positive_answers_ratio_by_categories_for_questions([[7, 32]])"
   ]
  },
  {
   "cell_type": "code",
   "execution_count": 72,
   "id": "cubic-bottom",
   "metadata": {},
   "outputs": [],
   "source": [
    "test = dp('DB/', 'mental_health')"
   ]
  },
  {
   "cell_type": "code",
   "execution_count": 122,
   "id": "alternate-nudist",
   "metadata": {},
   "outputs": [],
   "source": [
    "def plot_histogram_for_q(q_id):\n",
    "    ''' Plot answer distribution for given question represented by histogram. Only quantitative answers are supported. '''\n",
    "    answers = [int(answer[0]) for answer in test.get_answers_for_question(q_id)]\n",
    "    q_text = test.get_question_text(q_id)\n",
    "    plt.figure(figsize=(15, 8))\n",
    "    plt.suptitle(q_text, size='x-large')\n",
    "    plt.title('Answer distribution')\n",
    "    sns.histplot(answers)"
   ]
  },
  {
   "cell_type": "code",
   "execution_count": 178,
   "id": "polar-swiss",
   "metadata": {},
   "outputs": [],
   "source": [
    "def plot_answers_distribution(q_id):\n",
    "    ''' Plot answer distribution for given question represented by bars. '''\n",
    "    output = test.get_users_no_per_answer(q_id)\n",
    "    answers = [answer[0] for answer in  output]\n",
    "    answers_no = [answer[1] for answer in output]\n",
    "    q_text = test.get_question_text(q_id)\n",
    "    plt.figure(figsize=(15, 8))\n",
    "    plt.suptitle(q_text, size='x-large')\n",
    "    plt.title('Answer distribution')\n",
    "    sns.barplot(x=answers, y=answers_no, palette=\"Blues_d\")\n",
    "    addlabels(answers_no)"
   ]
  },
  {
   "cell_type": "code",
   "execution_count": 177,
   "id": "expensive-airport",
   "metadata": {},
   "outputs": [],
   "source": [
    "def addlabels(values):\n",
    "    for index, value in enumerate(values):\n",
    "        label = str(round(value, 2))\n",
    "        plt.text(index, value, label, ha='center')"
   ]
  },
  {
   "cell_type": "code",
   "execution_count": 84,
   "id": "operational-breeding",
   "metadata": {},
   "outputs": [],
   "source": [
    "years = test.get_answers_for_question(1)\n",
    "q_text = test.get_question_text(1)"
   ]
  },
  {
   "cell_type": "code",
   "execution_count": 85,
   "id": "arranged-flood",
   "metadata": {},
   "outputs": [],
   "source": [
    "years = [int(answer[0]) for answer in years]"
   ]
  },
  {
   "cell_type": "code",
   "execution_count": 112,
   "id": "casual-handle",
   "metadata": {},
   "outputs": [
    {
     "data": {
      "text/plain": [
       "[37, 44, 32, 31, 31, 33, 35, 39, 42, 23]"
      ]
     },
     "execution_count": 112,
     "metadata": {},
     "output_type": "execute_result"
    }
   ],
   "source": [
    "years[:10]"
   ]
  },
  {
   "cell_type": "code",
   "execution_count": 125,
   "id": "distinguished-columbia",
   "metadata": {},
   "outputs": [
    {
     "data": {
      "image/png": "[encoded data removed]",
      "text/html": [
       "<div style=\"vertical-align: middle;\"><strong>blend</strong> </div><div class=\"cmap\"><img alt=\"blend colormap\" title=\"blend\" style=\"border: 1px solid #555;\" src=\"data:image/png;base64,iVBORw0KGgoAAAANSUhEUgAAAgAAAABACAYAAABsv8+/AAAAFHRFWHRUaXRsZQBibGVuZCBjb2xvcm1hcKH0gPAAAAAadEVYdERlc2NyaXB0aW9uAGJsZW5kIGNvbG9ybWFwX6spFgAAADB0RVh0QXV0aG9yAE1hdHBsb3RsaWIgdjMuNC4wLCBodHRwczovL21hdHBsb3RsaWIub3JnPLBFgAAAADJ0RVh0U29mdHdhcmUATWF0cGxvdGxpYiB2My40LjAsIGh0dHBzOi8vbWF0cGxvdGxpYi5vcmcSFtqnAAABy0lEQVR4nO3WQVLCQBRAwehhvZOH8yxxIWBBCMwYys3r3kQZ48yvFKn39vH5tS7Lsqzruvw4XU+/nz9dNuvny3p//XLb/fvOP/yu399nsz58vsfr6805hufaXT841/D5Jue62WfzPEbnuux7dO698z2ee3qup3Nfn2987tnzHXsu83Nf//343Pf3Gf5+TT6X3f+7e9/1PtPvlc3+f537fJmca/q9MTjXy96Xe+d7Nvfkff/+vjx2vte9L2/Od7s+Otfhua/nel8AgBwBAABBAgAAggQAAAQJAAAIEgAAECQAACBIAABAkAAAgCABAABBAgAAggQAAAQJAAAIEgAAECQAACBIAABAkAAAgCABAABBAgAAggQAAAQJAAAIEgAAECQAACBIAABAkAAAgCABAABBAgAAggQAAAQJAAAIEgAAECQAACBIAABAkAAAgCABAABBAgAAggQAAAQJAAAIEgAAECQAACBIAABAkAAAgCABAABBAgAAggQAAAQJAAAIEgAAECQAACBIAABAkAAAgCABAABBAgAAggQAAAQJAAAIEgAAECQAACBIAABAkAAAgCABAABBAgAAggQAAAQJAAAIEgAAECQAACDoG3CzbP81+Rr3AAAAAElFTkSuQmCC\"></div><div style=\"vertical-align: middle; max-width: 514px; display: flex; justify-content: space-between;\"><div style=\"float: left;\"><div title=\"#6699ddff\" style=\"display: inline-block; width: 1em; height: 1em; margin: 0; vertical-align: middle; border: 1px solid #555; background-color: #6699ddff;\"></div> under</div><div style=\"margin: 0 auto; display: inline-block;\">bad <div title=\"#00000000\" style=\"display: inline-block; width: 1em; height: 1em; margin: 0; vertical-align: middle; border: 1px solid #555; background-color: #00000000;\"></div></div><div style=\"float: right;\">over <div title=\"#242629ff\" style=\"display: inline-block; width: 1em; height: 1em; margin: 0; vertical-align: middle; border: 1px solid #555; background-color: #242629ff;\"></div></div>"
      ],
      "text/plain": [
       "<matplotlib.colors.LinearSegmentedColormap at 0x2023e788>"
      ]
     },
     "execution_count": 125,
     "metadata": {},
     "output_type": "execute_result"
    }
   ],
   "source": [
    "custom_params = {\"axes.spines.right\": False, \"axes.spines.top\": False}\n",
    "sns.set_theme(style=\"whitegrid\", rc=custom_params)\n",
    "sns.dark_palette(\"#69d\", reverse=True, as_cmap=True)"
   ]
  },
  {
   "cell_type": "code",
   "execution_count": 126,
   "id": "short-manitoba",
   "metadata": {},
   "outputs": [
    {
     "data": {
      "image/png": "[encoded data removed]",
      "text/plain": [
       "<Figure size 1080x576 with 1 Axes>"
      ]
     },
     "metadata": {},
     "output_type": "display_data"
    }
   ],
   "source": [
    "# plt.figure(figsize=(15, 8))\n",
    "# plt.suptitle(q_text, size='x-large')\n",
    "# plt.title('Answer distribution')\n",
    "# sns.histplot(years)\n",
    "plot_histogram_for_q(1)"
   ]
  },
  {
   "cell_type": "code",
   "execution_count": 179,
   "id": "opening-institute",
   "metadata": {},
   "outputs": [
    {
     "data": {
      "image/png": "[encoded data removed]",
      "text/plain": [
       "<Figure size 1080x576 with 1 Axes>"
      ]
     },
     "metadata": {},
     "output_type": "display_data"
    }
   ],
   "source": [
    "plot_answers_distribution(2)"
   ]
  },
  {
   "cell_type": "code",
   "execution_count": null,
   "id": "serious-tracy",
   "metadata": {},
   "outputs": [],
   "source": []
  }
 ],
 "metadata": {
  "kernelspec": {
   "display_name": "Python 3",
   "language": "python",
   "name": "python3"
  },
  "language_info": {
   "codemirror_mode": {
    "name": "ipython",
    "version": 3
   },
   "file_extension": ".py",
   "mimetype": "text/x-python",
   "name": "python",
   "nbconvert_exporter": "python",
   "pygments_lexer": "ipython3",
   "version": "3.7.6"
  }
 },
 "nbformat": 4,
 "nbformat_minor": 5
}
