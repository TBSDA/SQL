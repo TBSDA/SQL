{
 "cells": [
  {
   "cell_type": "markdown",
   "id": "concrete-istanbul",
   "metadata": {},
   "source": [
    "# Mental Health in the Tech Industry Data Presentation and Visualization"
   ]
  },
  {
   "cell_type": "markdown",
   "id": "complex-shannon",
   "metadata": {},
   "source": [
    "Let's create a class for data presentation and visualization based on the Data_Processing module which gather and process the data form mental_health database."
   ]
  },
  {
   "cell_type": "code",
   "execution_count": 1,
   "id": "material-commitment",
   "metadata": {},
   "outputs": [],
   "source": [
    "import numpy as np\n",
    "import pandas as pd\n",
    "from matplotlib import pyplot as plt\n",
    "import seaborn as sns\n",
    "import Data_Processing as dp"
   ]
  },
  {
   "cell_type": "code",
   "execution_count": 2,
   "id": "acceptable-ordering",
   "metadata": {},
   "outputs": [],
   "source": [
    "test = dp.DataProcessing('DB/', 'mental_health')"
   ]
  },
  {
   "cell_type": "code",
   "execution_count": 3,
   "id": "unlikely-agriculture",
   "metadata": {},
   "outputs": [
    {
     "data": {
      "text/plain": [
       "3044"
      ]
     },
     "execution_count": 3,
     "metadata": {},
     "output_type": "execute_result"
    }
   ],
   "source": [
    "test.get_users_no_for_q_and_answer(2, 'Male')"
   ]
  },
  {
   "cell_type": "code",
   "execution_count": 25,
   "id": "previous-better",
   "metadata": {},
   "outputs": [],
   "source": [
    "def show_answers_pct_for_questions(q_ids):\n",
    "    '''  Get percentage of answers on given questions. '''\n",
    "    for qid in q_ids:\n",
    "        df = get_answers_pct(qid)\n",
    "        print(df.name)\n",
    "        print(df)\n",
    "        print()"
   ]
  },
  {
   "cell_type": "code",
   "execution_count": 26,
   "id": "documented-poultry",
   "metadata": {},
   "outputs": [],
   "source": [
    "def get_answers_pct(q_id):\n",
    "    ''' Get percentage of answers on given question.\n",
    "        Returns data frame answers*[answers [%], answers no]'''\n",
    "    q_text = test.get_question_text(q_id)\n",
    "    df = pd.DataFrame(columns=['answers [%]', 'answers no'])\n",
    "    df.name = f'Question {q_id}. {q_text} [%] and sum.'\n",
    "    for anspct, anssum in zip(test.get_answers_distribution_for_q(q_id), test.get_users_no_per_answer(q_id)):\n",
    "        df.loc[anspct[0]] = [anspct[1], anssum[1]]\n",
    "    return df"
   ]
  },
  {
   "cell_type": "code",
   "execution_count": 27,
   "id": "studied-russian",
   "metadata": {},
   "outputs": [
    {
     "name": "stdout",
     "output_type": "stream",
     "text": [
      "Question 6. Do you have a family history of mental illness? [%] and sum.\n",
      "              answers [%]  answers no\n",
      "I don't know        15.39       649.0\n",
      "No                  40.33      1701.0\n",
      "Yes                 44.29      1868.0\n",
      "\n",
      "Question 7. Have you ever sought treatment for a mental health disorder from a mental health professional? [%] and sum.\n",
      "   answers [%]  answers no\n",
      "0        42.82      1806.0\n",
      "1        57.18      2412.0\n",
      "\n",
      "Question 9. Is your employer primarily a tech company/organization? [%] and sum.\n",
      "     answers [%]  answers no\n",
      "0          19.58       826.0\n",
      "1          68.47      2888.0\n",
      "n/a        11.95       504.0\n",
      "\n",
      "Question 28. Would you have been willing to discuss your mental health with your direct supervisor(s)? [%] and sum.\n",
      "                                      answers [%]  answers no\n",
      "I don't know                                 6.42       190.0\n",
      "No, at none of my previous employers        14.06       416.0\n",
      "No, none of my previous supervisors         16.40       485.0\n",
      "Some of my previous employers               22.11       654.0\n",
      "Some of my previous supervisors             22.11       654.0\n",
      "Yes, all of my previous supervisors          3.31        98.0\n",
      "Yes, at all of my previous employers         3.14        93.0\n",
      "n/a                                         12.44       368.0\n",
      "\n",
      "Question 30. How willing would you be to share with friends and family that you have a mental illness? [%] and sum.\n",
      "                                                    answers [%]  answers no\n",
      "Neutral                                                   11.12       329.0\n",
      "Not applicable to me (I do not have a mental il...         3.79       112.0\n",
      "Not open at all                                           11.22       332.0\n",
      "Somewhat not open                                          9.80       290.0\n",
      "Somewhat open                                             26.74       791.0\n",
      "Very open                                                 37.32      1104.0\n",
      "\n",
      "Question 32. Have you had a mental health disorder in the past? [%] and sum.\n",
      "            answers [%]  answers no\n",
      "Don't Know         3.68       109.0\n",
      "No                30.29       896.0\n",
      "Possibly          17.61       521.0\n",
      "Yes               47.90      1417.0\n",
      "n/a                0.51        15.0\n",
      "\n",
      "Question 33. Do you currently have a mental health disorder? [%] and sum.\n",
      "            answers [%]  answers no\n",
      "Don't Know         4.19       124.0\n",
      "No                32.76       969.0\n",
      "Possibly          21.23       628.0\n",
      "Yes               41.82      1237.0\n",
      "\n",
      "Question 54. Do you believe your productivity is ever affected by a mental health issue? [%] and sum.\n",
      "                      answers [%]  answers no\n",
      "No                           0.88        26.0\n",
      "Not applicable to me         1.72        51.0\n",
      "Unsure                       2.03        60.0\n",
      "Yes                         12.41       367.0\n",
      "n/a                         82.96      2454.0\n",
      "\n",
      "Question 78. Are you openly identified at work as a person with a mental health issue? [%] and sum.\n",
      "     answers [%]  answers no\n",
      "0          87.87      1340.0\n",
      "1          12.00       183.0\n",
      "n/a         0.13         2.0\n",
      "\n"
     ]
    }
   ],
   "source": [
    "# for q_id in [6]:\n",
    "# #     q_text = test.get_question_text(q_id)\n",
    "# #     df = pd.DataFrame(columns=['answers [%]', 'answers no'])\n",
    "# #     df.name = f'Question {q_id}. {q_text} [%] and sum.'\n",
    "# #     for anspct, anssum in zip(test.get_answers_distribution_for_q(q_id), test.get_users_no_per_answer(q_id)):\n",
    "# # #         print(f'{anspct[0]} {anspct[1]}% sum({anssum[1]})')\n",
    "# #         df.loc[anspct[0]] = [anspct[1], anssum[1]]\n",
    "#     df = get_answers_pct(q_id)\n",
    "#     print(df.name)\n",
    "#     print(df)\n",
    "#     print()\n",
    "q_list = [6, 7, 9, 28, 30, 32, 33, 54, 78]\n",
    "show_answers_pct_for_questions(q_list)"
   ]
  },
  {
   "cell_type": "code",
   "execution_count": 15,
   "id": "artistic-canadian",
   "metadata": {},
   "outputs": [],
   "source": [
    "def show_answers_pct_yearly_for_questions(q_ids):\n",
    "    '''  Get percentage of answers on given questions yearly. '''\n",
    "    for qid in q_ids:\n",
    "        df = get_answers_pct_yearly(qid)\n",
    "        print(df.name)\n",
    "        print(df)\n",
    "        print()"
   ]
  },
  {
   "cell_type": "code",
   "execution_count": 16,
   "id": "effective-begin",
   "metadata": {},
   "outputs": [],
   "source": [
    "def get_answers_pct_yearly(q_id):\n",
    "    ''' Get percentage of answers on given question yearly.\n",
    "        Returns data frame answers*years'''\n",
    "    q_text = test.get_question_text(q_id)\n",
    "    df = pd.DataFrame()\n",
    "    df.name = f'Question {q_id}. {q_text} [%]'\n",
    "    for answer, year, pct in test.get_answers_distribution_for_q_by_years(q_id):\n",
    "        df.loc[answer, year] = pct\n",
    "#     print(df.name)\n",
    "#     print(df)\n",
    "#     print()\n",
    "    return df"
   ]
  },
  {
   "cell_type": "code",
   "execution_count": 17,
   "id": "mechanical-spelling",
   "metadata": {},
   "outputs": [
    {
     "name": "stdout",
     "output_type": "stream",
     "text": [
      "Question 2. What is your gender? [%]\n",
      "             2014   2016   2017   2018   2019\n",
      "Female      19.60  23.45  28.84  29.98  27.84\n",
      "Male        78.65  73.76  66.40  63.79  64.77\n",
      "Non-binary   0.08   0.42   0.79   0.48   1.14\n",
      "Other        1.67   2.16   2.25   5.04   4.83\n",
      "n/a           NaN   0.21   1.72   0.72   1.42\n",
      "\n",
      "Question 6. Do you have a family history of mental illness? [%]\n",
      "               2014   2016   2017   2018   2019\n",
      "No            60.95  34.05  29.63  27.34  30.40\n",
      "Yes           39.05  46.76  44.84  49.88  45.17\n",
      "I don't know    NaN  19.19  25.53  22.78  24.43\n",
      "\n",
      "Question 7. Have you ever sought treatment for a mental health disorder from a mental health professional? [%]\n",
      "    2014   2016   2017   2018   2019\n",
      "0  49.44  41.45  39.68  36.93  38.35\n",
      "1  50.56  58.55  60.32  63.07  61.65\n",
      "\n",
      "Question 9. Is your employer primarily a tech company/organization? [%]\n",
      "      2014   2016   2017   2018   2019\n",
      "0    18.17  18.35  18.78  22.78  27.56\n",
      "1    81.83  61.62  66.27  63.79  58.81\n",
      "n/a    NaN  20.03  14.95  13.43  13.64\n",
      "\n",
      "Question 28. Would you have been willing to discuss your mental health with your direct supervisor(s)? [%]\n",
      "                                       2016   2017   2018   2019\n",
      "I don't know                           7.05   5.42   6.71   5.68\n",
      "No, at none of my previous employers  29.03    NaN    NaN    NaN\n",
      "Some of my previous employers         45.64    NaN    NaN    NaN\n",
      "Yes, at all of my previous employers   6.49    NaN    NaN    NaN\n",
      "n/a                                   11.79  11.77  12.95  15.91\n",
      "No, none of my previous supervisors     NaN  32.94  29.26  32.39\n",
      "Some of my previous supervisors         NaN  43.25  43.88  40.91\n",
      "Yes, all of my previous supervisors     NaN   6.61   7.19   5.11\n",
      "\n",
      "Question 30. How willing would you be to share with friends and family that you have a mental illness? [%]\n",
      "                                                     2016   2017   2018   2019\n",
      "Neutral                                              9.84  12.17  11.27  13.92\n",
      "Not applicable to me (I do not have a mental il...   7.82    NaN    NaN    NaN\n",
      "Not open at all                                      5.23  18.12  13.67  17.90\n",
      "Somewhat not open                                   14.93   5.16   4.80   4.83\n",
      "Somewhat open                                       44.66   9.92   8.87  11.08\n",
      "Very open                                           17.52  54.63  61.39  52.27\n",
      "\n",
      "Question 32. Have you had a mental health disorder in the past? [%]\n",
      "             2016   2017   2018   2019\n",
      "No          31.47  30.03  26.62  30.40\n",
      "Possibly    17.17  17.72  16.55  20.45\n",
      "Yes         51.36  43.92  48.68  41.48\n",
      "Don't Know    NaN   7.01   7.67   6.82\n",
      "n/a           NaN   1.32   0.48   0.85\n",
      "\n",
      "Question 33. Do you currently have a mental health disorder? [%]\n",
      "             2016   2017   2018   2019\n",
      "No          37.06  29.37  26.86  29.55\n",
      "Possibly    22.82  19.05  19.66  21.31\n",
      "Yes         40.13  42.86  45.80  41.76\n",
      "Don't Know    NaN   8.73   7.67   7.39\n",
      "\n",
      "Question 54. Do you believe your productivity is ever affected by a mental health issue? [%]\n",
      "                       2016   2017   2018   2019\n",
      "No                     0.98   0.93   0.96   0.28\n",
      "Not applicable to me   2.16   1.06   1.92   1.14\n",
      "Unsure                 2.65   1.72   0.72   1.70\n",
      "Yes                   14.24  11.24   9.83  10.51\n",
      "n/a                   79.97  85.05  86.57  86.36\n",
      "\n",
      "Question 78. Are you openly identified at work as a person with a mental health issue? [%]\n",
      "      2017   2018   2019\n",
      "0    88.36  87.77  86.93\n",
      "1    11.38  12.23  13.07\n",
      "n/a   0.26    NaN    NaN\n",
      "\n"
     ]
    }
   ],
   "source": [
    "q_list = [2, 6, 7, 9, 28, 30, 32, 33, 54, 78]\n",
    "show_answers_pct_yearly_for_questions(q_list)"
   ]
  },
  {
   "cell_type": "code",
   "execution_count": 6,
   "id": "joined-acquisition",
   "metadata": {},
   "outputs": [
    {
     "name": "stdout",
     "output_type": "stream",
     "text": [
      "Percentage of employees which have ever sought treatment \n",
      "for a mental health disorder from a mental health professional, by company size.\n",
      "Number of employees: 1-5 - 54.72% of 254 answers.\n",
      "Number of employees: 100-500 - 62.44% of 788 answers.\n",
      "Number of employees: 26-100 - 52.43% of 824 answers.\n",
      "Number of employees: 500-1000 - 57.49% of 247 answers.\n",
      "Number of employees: 6-25 - 50.07% of 689 answers.\n",
      "Number of employees: More than 1000 - 60.31% of 912 answers.\n",
      "Number of employees: n/a - 61.9% of 504 answers.\n"
     ]
    }
   ],
   "source": [
    "tab_t = test.get_some_answer_no_based_on_answer_and_q(8, 7, 1)\n",
    "tab_f = test.get_some_answer_no_based_on_answer_and_q(8, 7, 0)\n",
    "print('''Percentage of employees which have ever sought treatment \n",
    "for a mental health disorder from a mental health professional, by company size.''')\n",
    "for row_t, row_f in zip(tab_t, tab_f):\n",
    "    answers_no = row_t[1] + row_f[1]\n",
    "    print(f'Number of employees: {row_t[0]} - {round(100*row_t[1]/answers_no, 2)}% of {answers_no} answers.')"
   ]
  },
  {
   "cell_type": "code",
   "execution_count": null,
   "id": "changed-acting",
   "metadata": {},
   "outputs": [],
   "source": [
    "test.get_some_answer_no_based_on_answer_and_q(13, 7, 1)\n",
    "test.get_some_answer_no_based_on_answer_and_q(13, 7, 0)"
   ]
  }
 ],
 "metadata": {
  "kernelspec": {
   "display_name": "Python 3",
   "language": "python",
   "name": "python3"
  },
  "language_info": {
   "codemirror_mode": {
    "name": "ipython",
    "version": 3
   },
   "file_extension": ".py",
   "mimetype": "text/x-python",
   "name": "python",
   "nbconvert_exporter": "python",
   "pygments_lexer": "ipython3",
   "version": "3.7.6"
  }
 },
 "nbformat": 4,
 "nbformat_minor": 5
}
