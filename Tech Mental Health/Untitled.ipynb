{
 "cells": [
  {
   "cell_type": "markdown",
   "id": "blond-automation",
   "metadata": {},
   "source": [
    "# Mental Health in the Tech Industry Data Gathering"
   ]
  },
  {
   "cell_type": "markdown",
   "id": "artificial-martial",
   "metadata": {},
   "source": [
    "Let's create a class for gathering the data, statistical calculation and processing data for presentation and visualization."
   ]
  },
  {
   "cell_type": "code",
   "execution_count": 1,
   "id": "representative-massage",
   "metadata": {},
   "outputs": [],
   "source": [
    "import sqlite3"
   ]
  },
  {
   "cell_type": "code",
   "execution_count": 70,
   "id": "focal-funds",
   "metadata": {},
   "outputs": [],
   "source": [
    "class DataProcessing:\n",
    "    ''' Class for gathering the data, statistical calculation and processing data. '''\n",
    "    \n",
    "    def __init__(self, path, db_name):\n",
    "        self.path = path\n",
    "        self.db_name = db_name\n",
    "    \n",
    "    def get_table(self, table):\n",
    "        ''' Get table content from the database. '''\n",
    "        conn = sqlite3.connect(f'{self.path}{self.db_name}.sqlite')\n",
    "        c = conn.cursor()\n",
    "        c.execute(f\"SELECT * FROM {table}\")\n",
    "        table = c.fetchall()\n",
    "        conn.commit()\n",
    "        conn.close()\n",
    "        return table\n",
    "\n",
    "    def get_all_answers_per_q(self, q_id):\n",
    "        ''' Get all answers from Answer table for particular question \n",
    "            represented by QuestionID number from the Question table. '''\n",
    "        conn = sqlite3.connect(f'{self.path}{self.db_name}.sqlite')\n",
    "        c = conn.cursor()\n",
    "        c.execute(\"SELECT AnswerText FROM Answer WHERE QuestionID = ?\", (q_id,))\n",
    "        answers = set(c.fetchall())\n",
    "        conn.commit()\n",
    "        conn.close()\n",
    "        return answers\n",
    "    \n",
    "    def get_users_no_per_q(self, q_id):\n",
    "        ''' Get number of all answers for the question. '''\n",
    "        conn = sqlite3.connect(f'{self.path}{self.db_name}.sqlite')\n",
    "        c = conn.cursor()\n",
    "        c.execute(\"SELECT count(UserID) FROM Answer WHERE QuestionID = ?\", (q_id,))\n",
    "        user_no = c.fetchone()[0]\n",
    "        conn.commit()\n",
    "        conn.close()\n",
    "        return user_no\n",
    "    \n",
    "    def get_users_no_for_q_and_answer(self, q_id, answer):\n",
    "        ''' Get number of users from Answer table for particular question number (QuestionID) and answer (AnswerText). '''\n",
    "        conn = sqlite3.connect(f'{self.path}{self.db_name}.sqlite')\n",
    "        c = conn.cursor()\n",
    "        c.execute(\"SELECT count(UserID) FROM Answer WHERE QuestionID = ? and AnswerText = ?\", (q_id, answer))\n",
    "        user_no = c.fetchone()[0]\n",
    "        conn.commit()\n",
    "        conn.close()\n",
    "        return user_no\n",
    "    \n",
    "    def get_users_no_per_answer(self, q_id):\n",
    "        ''' Get frequency of the answers for particular question number (QuestionID) in Answer table. '''\n",
    "        conn = sqlite3.connect(f'{self.path}{self.db_name}.sqlite')\n",
    "        c = conn.cursor()\n",
    "        c.execute(\"SELECT AnswerText, count(UserID) FROM Answer WHERE QuestionID = ? GROUP BY AnswerText\", (q_id,))\n",
    "        user_no = c.fetchall()\n",
    "        conn.commit()\n",
    "        conn.close()\n",
    "        return user_no\n",
    "    \n",
    "    def get_table_based_value_from_column(self, table, column, value):\n",
    "        ''' Get particular answer from provided table. '''\n",
    "        conn = sqlite3.connect(f'{self.path}{self.db_name}.sqlite')\n",
    "        c = conn.cursor()\n",
    "        c.execute(f\"SELECT * FROM {table} WHERE {column} = ?\", (value,))\n",
    "        value = c.fetchall()\n",
    "        conn.commit()\n",
    "        conn.close()\n",
    "        return value\n",
    "\n",
    "    def get_answers_for_q_less_occ(self, q_id, qty):\n",
    "        ''' Get answers for provided question q_id where occurency is less than qty. '''\n",
    "        q_id, qty = int(q_id), int(qty)\n",
    "        conn = sqlite3.connect(f'{self.path}{self.db_name}.sqlite')\n",
    "        c = conn.cursor()\n",
    "        c.execute(f'SELECT AnswerText, count(UserID) as UNo FROM Answer WHERE QuestionID = ? GROUP BY AnswerText HAVING UNo < ?', \n",
    "                  (q_id, qty))\n",
    "        answers = c.fetchall()\n",
    "        conn.commit()\n",
    "        conn.close()\n",
    "        return answers\n",
    "\n",
    "    def get_answers_for_q_greater_occ(self, q_id, qty):\n",
    "        ''' Get answers for provided question q_id where occurency is greater than qty. '''\n",
    "        q_id, qty = int(q_id), int(qty)\n",
    "        conn = sqlite3.connect(f'{self.path}{self.db_name}.sqlite')\n",
    "        c = conn.cursor()\n",
    "        c.execute(f'SELECT AnswerText, count(UserID) as UNo FROM Answer WHERE QuestionID = ? GROUP BY AnswerText HAVING UNo > ?', \n",
    "                  (q_id, qty))\n",
    "        answers = c.fetchall()\n",
    "        conn.commit()\n",
    "        conn.close()\n",
    "        return answers\n",
    "    \n",
    "    def get_answers_for_q_in_year(self, q_id, year):\n",
    "        ''' Get all answers from Answer table for particular question (QuestionID)\n",
    "            in given year (SurveyID). '''\n",
    "        conn = sqlite3.connect(f'{self.path}{self.db_name}.sqlite')\n",
    "        c = conn.cursor()\n",
    "        c.execute(\"SELECT AnswerText FROM Answer WHERE QuestionID = ? and SurveyID = ?\", (q_id, year))\n",
    "        answers = set(c.fetchall())\n",
    "        conn.commit()\n",
    "        conn.close()\n",
    "        return answers\n",
    "    \n",
    "    def get_users_no_for_q_and_answer_in_year(self, q_id, answer, year):\n",
    "        ''' Get number of users from Answer table for particular question number (QuestionID) and answer (AnswerText)\n",
    "            in given year (SurveyID). '''\n",
    "        conn = sqlite3.connect(f'{self.path}{self.db_name}.sqlite')\n",
    "        c = conn.cursor()\n",
    "        c.execute(\"SELECT count(UserID) FROM Answer WHERE QuestionID = ? and AnswerText = ? and SurveyID = ?\", (q_id, answer, year))\n",
    "        user_no = c.fetchone()[0]\n",
    "        conn.commit()\n",
    "        conn.close()\n",
    "        return user_no\n",
    "    \n",
    "    def get_users_no_per_q(self, q_id, year):\n",
    "        ''' Get number of all answers for the question in given year (SurveyID). '''\n",
    "        conn = sqlite3.connect(f'{self.path}{self.db_name}.sqlite')\n",
    "        c = conn.cursor()\n",
    "        c.execute(\"SELECT count(UserID) FROM Answer WHERE QuestionID = ? and SurveyID = ?\", (q_id, year))\n",
    "        user_no = c.fetchone()[0]\n",
    "        conn.commit()\n",
    "        conn.close()\n",
    "        return user_no\n",
    "    \n",
    "    def get_answers_for_questions(self, q_ids):\n",
    "        ''' Get table content for given questions. '''\n",
    "        values_no = ('?, '*len(q_ids))[:-2]\n",
    "        conn = sqlite3.connect(f'{self.path}{self.db_name}.sqlite')\n",
    "        c = conn.cursor()\n",
    "        c.execute(f\"SELECT * FROM Answer WHERE QuestionID = {values_no}\", (*q_ids))\n",
    "        table = c.fetchall()\n",
    "        conn.commit()\n",
    "        conn.close()\n",
    "        return table\n",
    "    \n",
    "    \n",
    "    # [] data from particular year (SurveyID) \n",
    "    # [] count particular answers in year\n",
    "    # [] count all answers in year\n",
    "    # [] table for two questions / or many questions\n",
    "    # table for two questions and answers (one true, second false) <-- to get people who work in different country that they leave (remote work counts or not? Not sure)\n",
    "    # get all answers based on one particular answer (e.g. table only for women)\n",
    "    #\n",
    "    # some statistics \n",
    "    # % of all, % distribution\n",
    "    # mean, median for num answers\n",
    "    # mean, median distribution (eg. q_id 34 along the years)\n",
    "    # "
   ]
  },
  {
   "cell_type": "code",
   "execution_count": 71,
   "id": "intended-passage",
   "metadata": {},
   "outputs": [],
   "source": [
    "test = DataProcessing('DB/', 'mental_health')"
   ]
  },
  {
   "cell_type": "code",
   "execution_count": 72,
   "id": "unlikely-network",
   "metadata": {},
   "outputs": [
    {
     "data": {
      "text/plain": [
       "3044"
      ]
     },
     "execution_count": 72,
     "metadata": {},
     "output_type": "execute_result"
    }
   ],
   "source": [
    "test.get_users_no_for_q_and_answer(2, 'Male')"
   ]
  },
  {
   "cell_type": "code",
   "execution_count": 73,
   "id": "abstract-intake",
   "metadata": {},
   "outputs": [
    {
     "data": {
      "text/plain": [
       "[('Female', 1024),\n",
       " ('Male', 3044),\n",
       " ('Non-binary', 13),\n",
       " ('Other', 107),\n",
       " ('n/a', 24),\n",
       " ('non-binary', 6)]"
      ]
     },
     "execution_count": 73,
     "metadata": {},
     "output_type": "execute_result"
    }
   ],
   "source": [
    "test.get_users_no_per_answer(2)"
   ]
  },
  {
   "cell_type": "code",
   "execution_count": 74,
   "id": "retired-fundamental",
   "metadata": {},
   "outputs": [
    {
     "data": {
      "text/plain": [
       "4218"
      ]
     },
     "execution_count": 74,
     "metadata": {},
     "output_type": "execute_result"
    }
   ],
   "source": [
    "test.get_users_no_per_q(2)"
   ]
  },
  {
   "cell_type": "code",
   "execution_count": 75,
   "id": "respected-fifty",
   "metadata": {},
   "outputs": [
    {
     "data": {
      "text/plain": [
       "[('Idaho', 2014, 420, 4),\n",
       " ('Idaho', 2016, 1549, 4),\n",
       " ('Idaho', 2016, 2364, 4),\n",
       " ('Idaho', 2016, 2663, 4),\n",
       " ('Idaho', 2016, 2364, 51),\n",
       " ('Idaho', 2016, 2663, 51),\n",
       " ('Idaho', 2017, 2838, 4),\n",
       " ('Idaho', 2017, 3419, 4),\n",
       " ('Idaho', 2017, 2838, 51),\n",
       " ('Idaho', 2017, 3419, 51),\n",
       " ('Idaho', 2018, 3612, 4),\n",
       " ('Idaho', 2018, 3612, 51),\n",
       " ('Idaho', 2019, 4197, 4),\n",
       " ('Idaho', 2019, 4197, 51)]"
      ]
     },
     "execution_count": 75,
     "metadata": {},
     "output_type": "execute_result"
    }
   ],
   "source": [
    "test.get_table_based_value_from_column('Answer', 'AnswerText', 'Idaho')"
   ]
  },
  {
   "cell_type": "code",
   "execution_count": 76,
   "id": "happy-payment",
   "metadata": {},
   "outputs": [
    {
     "data": {
      "text/plain": [
       "[('non-binary', 6)]"
      ]
     },
     "execution_count": 76,
     "metadata": {},
     "output_type": "execute_result"
    }
   ],
   "source": [
    "test.get_answers_for_q_less_occ(2, 10)"
   ]
  },
  {
   "cell_type": "code",
   "execution_count": 77,
   "id": "promotional-degree",
   "metadata": {},
   "outputs": [
    {
     "data": {
      "text/plain": [
       "[('Female', 1024),\n",
       " ('Male', 3044),\n",
       " ('Non-binary', 13),\n",
       " ('Other', 107),\n",
       " ('n/a', 24)]"
      ]
     },
     "execution_count": 77,
     "metadata": {},
     "output_type": "execute_result"
    }
   ],
   "source": [
    "test.get_answers_for_q_greater_occ(2, '10')"
   ]
  },
  {
   "cell_type": "code",
   "execution_count": null,
   "id": "elect-jumping",
   "metadata": {},
   "outputs": [],
   "source": []
  }
 ],
 "metadata": {
  "kernelspec": {
   "display_name": "Python 3",
   "language": "python",
   "name": "python3"
  },
  "language_info": {
   "codemirror_mode": {
    "name": "ipython",
    "version": 3
   },
   "file_extension": ".py",
   "mimetype": "text/x-python",
   "name": "python",
   "nbconvert_exporter": "python",
   "pygments_lexer": "ipython3",
   "version": "3.7.6"
  }
 },
 "nbformat": 4,
 "nbformat_minor": 5
}
