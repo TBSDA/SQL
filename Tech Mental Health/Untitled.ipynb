{
 "cells": [
  {
   "cell_type": "markdown",
   "id": "blond-automation",
   "metadata": {},
   "source": [
    "# Mental Health in the Tech Industry Data Gathering"
   ]
  },
  {
   "cell_type": "markdown",
   "id": "artificial-martial",
   "metadata": {},
   "source": [
    "Let's create a class for gathering the data, statistical calculation and processing data for presentation and visualization."
   ]
  },
  {
   "cell_type": "code",
   "execution_count": 1,
   "id": "representative-massage",
   "metadata": {},
   "outputs": [],
   "source": [
    "import sqlite3"
   ]
  },
  {
   "cell_type": "code",
   "execution_count": 74,
   "id": "focal-funds",
   "metadata": {},
   "outputs": [],
   "source": [
    "class DataProcessing:\n",
    "    ''' Class for gathering the data, statistical calculation and processing data. '''\n",
    "    \n",
    "    def __init__(self, path, db_name):\n",
    "        self.path = path\n",
    "        self.db_name = db_name\n",
    "    \n",
    "    def get_table(self, table):\n",
    "        ''' Get table content from the database. '''\n",
    "        conn = sqlite3.connect(f'{self.path}{self.db_name}.sqlite')\n",
    "        c = conn.cursor()\n",
    "        c.execute(f\"SELECT * FROM {table}\")\n",
    "        table = c.fetchall()\n",
    "        conn.close()\n",
    "        return table\n",
    "\n",
    "    def get_all_answers_per_q(self, q_id):\n",
    "        ''' Get all answers from Answer table for particular question \n",
    "            represented by QuestionID number from the Question table. '''\n",
    "        conn = sqlite3.connect(f'{self.path}{self.db_name}.sqlite')\n",
    "        c = conn.cursor()\n",
    "        c.execute(\"SELECT AnswerText FROM Answer WHERE QuestionID = ?\", (q_id,))\n",
    "        answers = set(c.fetchall())\n",
    "        conn.close()\n",
    "        return answers\n",
    "    \n",
    "    def get_users_no_per_q(self, q_id):\n",
    "        ''' Get number of all answers for the question. '''\n",
    "        conn = sqlite3.connect(f'{self.path}{self.db_name}.sqlite')\n",
    "        c = conn.cursor()\n",
    "        c.execute(\"SELECT count(UserID) FROM Answer WHERE QuestionID = ?\", (q_id,))\n",
    "        user_no = c.fetchone()[0]\n",
    "        conn.close()\n",
    "        return user_no\n",
    "    \n",
    "    def get_users_no_for_q_and_answer(self, q_id, answer):\n",
    "        ''' Get number of users from Answer table for particular question number (QuestionID) and answer (AnswerText). '''\n",
    "        conn = sqlite3.connect(f'{self.path}{self.db_name}.sqlite')\n",
    "        c = conn.cursor()\n",
    "        c.execute(\"SELECT count(UserID) FROM Answer WHERE QuestionID = ? and AnswerText = ?\", (q_id, answer))\n",
    "        user_no = c.fetchone()[0]\n",
    "        conn.close()\n",
    "        return user_no\n",
    "    \n",
    "    def get_users_no_per_answer(self, q_id):\n",
    "        ''' Get frequency of the answers for particular question number (QuestionID) in Answer table. '''\n",
    "        conn = sqlite3.connect(f'{self.path}{self.db_name}.sqlite')\n",
    "        c = conn.cursor()\n",
    "        c.execute(\"SELECT AnswerText, count(UserID) FROM Answer WHERE QuestionID = ? GROUP BY AnswerText\", (q_id,))\n",
    "        user_no = c.fetchall()\n",
    "        conn.close()\n",
    "        return user_no\n",
    "    \n",
    "    def get_table_based_value_from_column(self, table, column, value):\n",
    "        ''' Get particular answer from provided table. '''\n",
    "        conn = sqlite3.connect(f'{self.path}{self.db_name}.sqlite')\n",
    "        c = conn.cursor()\n",
    "        c.execute(f\"SELECT * FROM {table} WHERE {column} = ?\", (value,))\n",
    "        value = c.fetchall()\n",
    "        conn.close()\n",
    "        return value\n",
    "\n",
    "    def get_answers_for_q_less_occ(self, q_id, qty):\n",
    "        ''' Get answers for provided question q_id where occurency is less than qty. '''\n",
    "        q_id, qty = int(q_id), int(qty)\n",
    "        conn = sqlite3.connect(f'{self.path}{self.db_name}.sqlite')\n",
    "        c = conn.cursor()\n",
    "        c.execute(f'SELECT AnswerText, count(UserID) as UNo FROM Answer WHERE QuestionID = ? GROUP BY AnswerText HAVING UNo < ?', \n",
    "                  (q_id, qty))\n",
    "        answers = c.fetchall()\n",
    "        conn.close()\n",
    "        return answers\n",
    "\n",
    "    def get_answers_for_q_greater_occ(self, q_id, qty):\n",
    "        ''' Get answers for provided question q_id where occurency is greater than qty. '''\n",
    "        q_id, qty = int(q_id), int(qty)\n",
    "        conn = sqlite3.connect(f'{self.path}{self.db_name}.sqlite')\n",
    "        c = conn.cursor()\n",
    "        c.execute(f'SELECT AnswerText, count(UserID) as UNo FROM Answer WHERE QuestionID = ? GROUP BY AnswerText HAVING UNo > ?', \n",
    "                  (q_id, qty))\n",
    "        answers = c.fetchall()\n",
    "        conn.close()\n",
    "        return answers\n",
    "    \n",
    "    def get_answers_for_q_in_year(self, q_id, year):\n",
    "        ''' Get all answers from Answer table for particular question (QuestionID)\n",
    "            in given year (SurveyID). '''\n",
    "        conn = sqlite3.connect(f'{self.path}{self.db_name}.sqlite')\n",
    "        c = conn.cursor()\n",
    "        c.execute(\"SELECT AnswerText FROM Answer WHERE QuestionID = ? and SurveyID = ?\", (q_id, year))\n",
    "        answers = set(c.fetchall())\n",
    "        conn.close()\n",
    "        return answers\n",
    "    \n",
    "    def get_users_no_for_q_and_answer_in_year(self, q_id, answer, year):\n",
    "        ''' Get number of users from Answer table for particular question number (QuestionID) and answer (AnswerText)\n",
    "            in given year (SurveyID). '''\n",
    "        conn = sqlite3.connect(f'{self.path}{self.db_name}.sqlite')\n",
    "        c = conn.cursor()\n",
    "        c.execute(\"SELECT count(UserID) FROM Answer WHERE QuestionID = ? and AnswerText = ? and SurveyID = ?\", (q_id, answer, year))\n",
    "        user_no = c.fetchone()[0]\n",
    "        conn.close()\n",
    "        return user_no\n",
    "    \n",
    "    def get_users_no_per_q_in_year(self, q_id, year):\n",
    "        ''' Get number of all answers for the question in given year (SurveyID). '''\n",
    "        conn = sqlite3.connect(f'{self.path}{self.db_name}.sqlite')\n",
    "        c = conn.cursor()\n",
    "        c.execute(\"SELECT count(UserID) FROM Answer WHERE QuestionID = ? and SurveyID = ?\", (q_id, year))\n",
    "        user_no = c.fetchone()[0]\n",
    "        conn.close()\n",
    "        return user_no\n",
    "    \n",
    "    def get_answers_for_questions(self, q_ids):\n",
    "        ''' Get table content for given questions. '''\n",
    "        values_no = ('?, '*len(q_ids))[:-2]\n",
    "        conn = sqlite3.connect(f'{self.path}{self.db_name}.sqlite')\n",
    "        c = conn.cursor()\n",
    "        c.execute(f\"SELECT * FROM Answer WHERE QuestionID = {values_no}\", (*q_ids))\n",
    "        table = c.fetchall()\n",
    "        conn.close()\n",
    "        return table\n",
    "    \n",
    "    def get_different_answers_for_2q(self, q_id1, q_id2):\n",
    "        ''' Get different answers on two questions for the same user. '''\n",
    "        conn = sqlite3.connect(f'{self.path}{self.db_name}.sqlite')\n",
    "        c = conn.cursor()\n",
    "        c.execute(f\"\"\"SELECT AnswerText, UserID as uid FROM Answer \n",
    "        WHERE QuestionID = ? and AnswerText != (SELECT AnswerText FROM Answer WHERE UserID = uid and QuestionID = ?)\"\"\",\n",
    "                 (q_id1, q_id2))\n",
    "        table = c.fetchall()\n",
    "        conn.close()\n",
    "        return table\n",
    "    \n",
    "    def get_different_answers_for_2q_v2(self, q_id1, q_id2):\n",
    "        ''' Get different answers on two questions for the same user.\n",
    "            Much faster than get_different_answers_for_2q. '''\n",
    "        tab_q1 = self.get_answers_ordered_by_uid(q_id1)\n",
    "        tab_q2 = self.get_answers_ordered_by_uid(q_id2)\n",
    "        diff_table = self._get_diff_table(tab_q1, tab_q2)\n",
    "        return self._get_combined_tab_uid_based(diff_table, tab_q1)\n",
    "        \n",
    "    def get_answers_ordered_by_uid(self, q_id):\n",
    "        ''' Get the answers ordered by UserID for given question. '''\n",
    "        conn = sqlite3.connect(f'{self.path}{self.db_name}.sqlite')\n",
    "        c = conn.cursor()\n",
    "        c.execute(f\"SELECT AnswerText, UserID FROM Answer WHERE QuestionID = ? Order by UserID\", (q_id,))\n",
    "        table = c.fetchall()\n",
    "        conn.close()\n",
    "        return table\n",
    "    \n",
    "    @staticmethod\n",
    "    def _get_diff_table(tab1, tab2):\n",
    "        ''' Returns the difference between two lists. '''\n",
    "        table1 = set(tab1)\n",
    "        table2 = set(tab2)\n",
    "        return table2.difference(table1)\n",
    "    \n",
    "    @staticmethod\n",
    "    def _get_combined_tab_uid_based(tab1, tab2):\n",
    "        ''' Returns a list which combine first values from lists of tuples tab1 and tab2\n",
    "            based on the second values.\n",
    "            tab1 and tab2 need to have values of tuples of length 2. '''\n",
    "        result_list = []\n",
    "        for wc, wuid in list(tab1):\n",
    "            for lc, luid in list(tab2):\n",
    "                if luid == wuid:\n",
    "                    result_list.append((lc, wc, wuid))\n",
    "        return result_list    \n",
    "    \n",
    "    def get_users_no_per_two_q(self, q_id1, q_id2):\n",
    "        ''' Get number of users who answered for provided two questions. '''\n",
    "        conn = sqlite3.connect(f'{self.path}{self.db_name}.sqlite')\n",
    "        c = conn.cursor()\n",
    "        c.execute(f\"\"\"SELECT count(UserID), UserID as uid \n",
    "        FROM Answer WHERE QuestionID = ? and \n",
    "        EXISTS(SELECT AnswerText FROM Answer WHERE UserID = uid and QuestionID = ?)\"\"\",\n",
    "                 (q_id1, q_id2))\n",
    "        user_no = c.fetchone()[0]\n",
    "        conn.close()\n",
    "        return user_no\n",
    "    \n"
   ]
  },
  {
   "cell_type": "code",
   "execution_count": 75,
   "id": "intended-passage",
   "metadata": {},
   "outputs": [],
   "source": [
    "test = DataProcessing('DB/', 'mental_health')"
   ]
  },
  {
   "cell_type": "code",
   "execution_count": 76,
   "id": "unlikely-network",
   "metadata": {},
   "outputs": [
    {
     "data": {
      "text/plain": [
       "3044"
      ]
     },
     "execution_count": 76,
     "metadata": {},
     "output_type": "execute_result"
    }
   ],
   "source": [
    "test.get_users_no_for_q_and_answer(2, 'Male')"
   ]
  },
  {
   "cell_type": "code",
   "execution_count": 77,
   "id": "abstract-intake",
   "metadata": {},
   "outputs": [
    {
     "data": {
      "text/plain": [
       "[('Female', 1024),\n",
       " ('Male', 3044),\n",
       " ('Non-binary', 13),\n",
       " ('Other', 107),\n",
       " ('n/a', 24),\n",
       " ('non-binary', 6)]"
      ]
     },
     "execution_count": 77,
     "metadata": {},
     "output_type": "execute_result"
    }
   ],
   "source": [
    "test.get_users_no_per_answer(2)"
   ]
  },
  {
   "cell_type": "code",
   "execution_count": 78,
   "id": "retired-fundamental",
   "metadata": {},
   "outputs": [
    {
     "data": {
      "text/plain": [
       "4218"
      ]
     },
     "execution_count": 78,
     "metadata": {},
     "output_type": "execute_result"
    }
   ],
   "source": [
    "test.get_users_no_per_q(2)"
   ]
  },
  {
   "cell_type": "code",
   "execution_count": 79,
   "id": "respected-fifty",
   "metadata": {},
   "outputs": [
    {
     "data": {
      "text/plain": [
       "[('Idaho', 2014, 420, 4),\n",
       " ('Idaho', 2016, 1549, 4),\n",
       " ('Idaho', 2016, 2364, 4),\n",
       " ('Idaho', 2016, 2663, 4),\n",
       " ('Idaho', 2016, 2364, 51),\n",
       " ('Idaho', 2016, 2663, 51),\n",
       " ('Idaho', 2017, 2838, 4),\n",
       " ('Idaho', 2017, 3419, 4),\n",
       " ('Idaho', 2017, 2838, 51),\n",
       " ('Idaho', 2017, 3419, 51),\n",
       " ('Idaho', 2018, 3612, 4),\n",
       " ('Idaho', 2018, 3612, 51),\n",
       " ('Idaho', 2019, 4197, 4),\n",
       " ('Idaho', 2019, 4197, 51)]"
      ]
     },
     "execution_count": 79,
     "metadata": {},
     "output_type": "execute_result"
    }
   ],
   "source": [
    "test.get_table_based_value_from_column('Answer', 'AnswerText', 'Idaho')"
   ]
  },
  {
   "cell_type": "code",
   "execution_count": 80,
   "id": "happy-payment",
   "metadata": {},
   "outputs": [
    {
     "data": {
      "text/plain": [
       "[('non-binary', 6)]"
      ]
     },
     "execution_count": 80,
     "metadata": {},
     "output_type": "execute_result"
    }
   ],
   "source": [
    "test.get_answers_for_q_less_occ(2, 10)"
   ]
  },
  {
   "cell_type": "code",
   "execution_count": 81,
   "id": "promotional-degree",
   "metadata": {},
   "outputs": [
    {
     "data": {
      "text/plain": [
       "[('Female', 1024),\n",
       " ('Male', 3044),\n",
       " ('Non-binary', 13),\n",
       " ('Other', 107),\n",
       " ('n/a', 24)]"
      ]
     },
     "execution_count": 81,
     "metadata": {},
     "output_type": "execute_result"
    }
   ],
   "source": [
    "test.get_answers_for_q_greater_occ(2, '10')"
   ]
  },
  {
   "cell_type": "code",
   "execution_count": 82,
   "id": "periodic-infrastructure",
   "metadata": {},
   "outputs": [
    {
     "name": "stdout",
     "output_type": "stream",
     "text": [
      "Wall time: 41 s\n"
     ]
    },
    {
     "data": {
      "text/plain": [
       "[('United States of America', 1511),\n",
       " ('Spain', 1566),\n",
       " ('Canada', 1569),\n",
       " ('United Kingdom', 1595),\n",
       " ('United States of America', 1647),\n",
       " ('Canada', 1688),\n",
       " ('Canada', 1702),\n",
       " ('Netherlands', 1729),\n",
       " ('Lithuania', 1777),\n",
       " ('Algeria', 1858),\n",
       " ('Pakistan', 1983),\n",
       " ('Australia', 2045),\n",
       " ('United Kingdom', 2058),\n",
       " ('Other', 2081),\n",
       " ('Romania', 2095),\n",
       " ('Japan', 2152),\n",
       " ('France', 2179),\n",
       " ('Canada', 2288),\n",
       " ('France', 2335),\n",
       " ('Germany', 2359),\n",
       " ('Italy', 2440),\n",
       " ('Italy', 2449),\n",
       " ('Taiwan', 2626),\n",
       " ('Afghanistan', 2668),\n",
       " ('Canada', 2683),\n",
       " ('United States of America', 2690),\n",
       " ('Czech Republic', 2772),\n",
       " ('Belgium', 2789),\n",
       " ('Germany', 2880),\n",
       " ('Brazil', 2883),\n",
       " ('Hungary', 2884),\n",
       " ('Greece', 2912),\n",
       " ('Ireland', 2928),\n",
       " ('Switzerland', 2954),\n",
       " ('India', 3031),\n",
       " ('Argentina', 3074),\n",
       " ('Belarus', 3120),\n",
       " ('Netherlands', 3134),\n",
       " ('France', 3140),\n",
       " ('-1', 3447),\n",
       " ('-1', 3449),\n",
       " ('Poland', 3547),\n",
       " ('New Zealand', 3683),\n",
       " ('Belgium', 3705),\n",
       " ('Germany', 3736),\n",
       " ('France', 3760),\n",
       " ('Japan', 3807),\n",
       " ('United States of America', 3847),\n",
       " ('United Kingdom', 3911),\n",
       " ('Canada', 3925),\n",
       " ('United States of America', 4058)]"
      ]
     },
     "execution_count": 82,
     "metadata": {},
     "output_type": "execute_result"
    }
   ],
   "source": [
    "%%time\n",
    "test.get_different_answers_for_2q(3, 50)"
   ]
  },
  {
   "cell_type": "code",
   "execution_count": 83,
   "id": "acceptable-orbit",
   "metadata": {},
   "outputs": [
    {
     "name": "stdout",
     "output_type": "stream",
     "text": [
      "Wall time: 89 ms\n"
     ]
    },
    {
     "data": {
      "text/plain": [
       "[('Netherlands', 'United Kingdom', 1729),\n",
       " ('Canada', 'United States of America', 1702),\n",
       " ('Poland', 'United States of America', 3547),\n",
       " ('United States of America', 'Mexico', 3847),\n",
       " ('Romania', 'United States of America', 2095),\n",
       " ('Japan', 'Canada', 2152),\n",
       " ('Greece', 'Netherlands', 2912),\n",
       " ('India', 'United States of America', 3031),\n",
       " ('-1', 'n/a', 3449),\n",
       " ('France', 'United Kingdom', 2179),\n",
       " ('Spain', 'United States of America', 1566),\n",
       " ('Germany', 'United Kingdom', 2359),\n",
       " ('Italy', 'United States of America', 2440),\n",
       " ('Other', 'Germany', 2081),\n",
       " ('United Kingdom', 'Other', 3911),\n",
       " ('Canada', 'United States of America', 2683),\n",
       " ('Belarus', 'United States of America', 3120),\n",
       " ('Germany', 'Eritrea', 2880),\n",
       " ('Switzerland', 'Swaziland', 2954),\n",
       " ('Lithuania', 'United Kingdom', 1777),\n",
       " ('France', 'Switzerland', 3760),\n",
       " ('Belgium', 'Portugal', 2789),\n",
       " ('Taiwan', 'United States of America', 2626),\n",
       " ('Hungary', 'Austria', 2884),\n",
       " ('Algeria', 'United States of America', 1858),\n",
       " ('Netherlands', 'United States of America', 3134),\n",
       " ('United States of America', 'Turkey', 1647),\n",
       " ('United States of America', 'Botswana', 4058),\n",
       " ('Germany', 'United Kingdom', 3736),\n",
       " ('Australia', 'Other', 2045),\n",
       " ('Italy', 'Sweden', 2449),\n",
       " ('-1', 'n/a', 3447),\n",
       " ('France', 'Luxembourg', 3140),\n",
       " ('Brazil', 'United States of America', 2883),\n",
       " ('France', 'United Kingdom', 2335),\n",
       " ('Canada', 'United States of America', 3925),\n",
       " ('United Kingdom', 'United States of America', 2058),\n",
       " ('Pakistan', 'United States of America', 1983),\n",
       " ('Czech Republic', 'Germany', 2772),\n",
       " ('United States of America', 'Afghanistan', 2690),\n",
       " ('Belgium', 'New Zealand', 3705),\n",
       " ('United Kingdom', 'United States of America', 1595),\n",
       " ('Canada', 'United States of America', 2288),\n",
       " ('Ireland', 'United States of America', 2928),\n",
       " ('New Zealand', 'United States of America', 3683),\n",
       " ('Canada', 'United States of America', 1688),\n",
       " ('Argentina', 'United States of America', 3074),\n",
       " ('Afghanistan', 'United States of America', 2668),\n",
       " ('Canada', 'United States of America', 1569),\n",
       " ('United States of America', 'United Arab Emirates', 1511),\n",
       " ('Japan', 'United States of America', 3807)]"
      ]
     },
     "execution_count": 83,
     "metadata": {},
     "output_type": "execute_result"
    }
   ],
   "source": [
    "%%time\n",
    "test.get_different_answers_for_2q_v2(3, 50)"
   ]
  },
  {
   "cell_type": "code",
   "execution_count": null,
   "id": "tropical-favorite",
   "metadata": {},
   "outputs": [],
   "source": []
  }
 ],
 "metadata": {
  "kernelspec": {
   "display_name": "Python 3",
   "language": "python",
   "name": "python3"
  },
  "language_info": {
   "codemirror_mode": {
    "name": "ipython",
    "version": 3
   },
   "file_extension": ".py",
   "mimetype": "text/x-python",
   "name": "python",
   "nbconvert_exporter": "python",
   "pygments_lexer": "ipython3",
   "version": "3.7.6"
  }
 },
 "nbformat": 4,
 "nbformat_minor": 5
}
