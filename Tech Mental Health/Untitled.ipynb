{
 "cells": [
  {
   "cell_type": "markdown",
   "id": "institutional-virtue",
   "metadata": {},
   "source": [
    "# Mental Health in the Tech Industry Data Cleaning"
   ]
  },
  {
   "cell_type": "markdown",
   "id": "equipped-documentation",
   "metadata": {},
   "source": [
    "Source: https://www.kaggle.com/datasets/anth7310/mental-health-in-the-tech-industry"
   ]
  },
  {
   "cell_type": "markdown",
   "id": "competent-scale",
   "metadata": {},
   "source": [
    "Let's build the data cleaning class for further reference. In case of next year survey that can be used but before the data need to be review to check if some adaptations are required of course."
   ]
  },
  {
   "cell_type": "markdown",
   "id": "frank-handle",
   "metadata": {},
   "source": [
    "The supported questions are: 1, 2, 3, 4, 5, 6, 7, 8, 9, 12, 13, 22, 28, 30, 32, 33, 34, 48, 49, 50, 51, 54, 55, 56, 78, 79, 89, 93, 118"
   ]
  },
  {
   "cell_type": "code",
   "execution_count": 1,
   "id": "activated-irrigation",
   "metadata": {},
   "outputs": [],
   "source": [
    "import sqlite3\n",
    "import shutil"
   ]
  },
  {
   "cell_type": "code",
   "execution_count": 32,
   "id": "clinical-extra",
   "metadata": {},
   "outputs": [],
   "source": [
    "class SurveyCleaning:\n",
    "    ''' The class suppors data cleaning for the Mental Health in the Tech Industry Database \n",
    "        for the following questions: 1, 2, 3, 4, 5, 6, 7, 8, 9, 12, 13, 22, 28, 30, 32, 33, \n",
    "        34, 48, 49, 50, 51, 54, 55, 56, 78, 79, 89, 93, 118 \n",
    "        The changes are done directly on provided database so please make sure the backup is done.\n",
    "        The backup function can be used for that.\n",
    "        The path is the directory where the database is stored e.g. DB/ \n",
    "        The db_name is the database name'''\n",
    "    \n",
    "    def __init__(self, path, db_name):\n",
    "        self.path = path\n",
    "        self.db_name = db_name\n",
    "        self.question_ids = [1, 2, 3, 4, 5, 6, 7, 8, 9, 12, 13, 22, 28, 30, 32, 33, \n",
    "        34, 48, 49, 50, 51, 54, 55, 56, 78, 79, 89, 93, 118]\n",
    "        \n",
    "    def backup(self):\n",
    "        ''' Create a backup for the database. '''\n",
    "        # Copy the contents (no metadata) of the file named src to a file named dst.\n",
    "        # https://docs.python.org/2/library/shutil.html\n",
    "        try:\n",
    "            shutil.copyfile(f'{self.path}{self.db_name}.sqlite', f'{self.path}{self.db_name}_backup.sqlite')\n",
    "            print(f'Backup saved successfully in {self.path} directory.')\n",
    "            print(f'Saved as {self.db_name}_backup.sqlite')\n",
    "        except:\n",
    "            raise\n",
    "    \n",
    "    def clear_all_at_once(self):\n",
    "        ''' The cleaning is done according to Overview conclusions which are the following:\n",
    "            Update -1 --> 'n/a' for the questions: 2, 4, 5, 8, 9, 13, 28, 32, 34, 50, 51, 54, 55, 56, 78, 79, 89\n",
    "            Update 'DC' --> 'Washington' for question 4\n",
    "            Update female --> Female; MALE, I have a penis --> Male; Non binary, Nonbinary --> Non-binary for question 2\n",
    "            Update -1, 43, \\- and all below quantity of five answers going to be 'Other' for question 2\n",
    "            Update Delete user with answers for these below 18 and above 100.'''\n",
    "        # to add questions list and verify if fits the self.question_ids (supported questions)?\n",
    "        \n",
    "        # -1 --> 'n/a'\n",
    "        question_ids = [2, 4, 5, 8, 9, 13, 28, 32, 34, 50, 51, 54, 55, 56, 78, 79, 89]\n",
    "        self.change_answer_value(question_ids, '-1', 'n/a')\n",
    "        \n",
    "        # 'DC' --> 'Washington'\n",
    "        question_ids = [4]\n",
    "        self.change_answer_value(question_ids, 'DC', 'Washington')\n",
    "        \n",
    "        # Female, Male and Non binary adjustment\n",
    "        question_ids = [2]\n",
    "        female = ['female']\n",
    "        male = ['MALE', 'I have a penis']\n",
    "        non_binary = ['Non binary', 'Nonbinary']\n",
    "        self.change_answer_values(question_ids, Female = female, Male = male, Non_binary = non_binary)\n",
    "        \n",
    "        # all below quantity of five answers going to be Other\n",
    "        t_value = 'Other'\n",
    "        qty = 5\n",
    "        self.change_answer_for_qs_smaller(question_ids, t_value, qty)\n",
    "        \n",
    "        # delete users (with their answers) for these below 18 and above 100 years old\n",
    "        age_range = [18, 100] # delete below [0] and above [1]\n",
    "        self.delete_participant_out_of_age_range(age_range)\n",
    "    \n",
    "    def change_answer_value(self, q_ids, v1, v2):\n",
    "        ''' Update the answer value for the list of question provided in list.\n",
    "            v1 is a value which will be change.\n",
    "            v2 is a target value. '''\n",
    "        values_no = ('?, '*len(q_ids))[:-2]\n",
    "        conn = sqlite3.connect(f'{self.path}{self.db_name}.sqlite')\n",
    "        c = conn.cursor()\n",
    "        c.execute(f\"UPDATE Answer SET AnswerText = ? WHERE AnswerText = ? and QuestionID IN ({values_no})\", (v2, v1, *q_ids))\n",
    "        conn.commit()\n",
    "        conn.close()\n",
    "        \n",
    "    def change_answer_values(self, q_ids, **kwargs):\n",
    "        ''' Update the answer values for the list of question provided in list.\n",
    "            Can be use for mapping a couple answer values to another one value. '''\n",
    "        for key, values in kwargs.items():\n",
    "            target_value = key.replace('_','-')\n",
    "            for prev_value in values:\n",
    "                self.change_answer_value(q_ids, prev_value, target_value)\n",
    "    \n",
    "    def change_answer_for_qs_smaller(self, q_ids, t_value, qty):\n",
    "        ''' Change answer for provided questions q_ids to t_value where occurency is lower than qty. '''\n",
    "        for q_id in q_ids:\n",
    "            self.change_answer_for_q_smaller(q_id, t_value, qty)\n",
    "\n",
    "    def change_answer_for_q_smaller(self, q_id, t_value, qty):\n",
    "        ''' Change answer for provided question q_id to t_value where occurency is lower than qty. '''\n",
    "        conn = sqlite3.connect(f'{self.path}{self.db_name}.sqlite')\n",
    "        c = conn.cursor()\n",
    "        c.execute(f'SELECT AnswerText, count(UserID) as UNo FROM Answer WHERE QuestionID = ? GROUP BY AnswerText HAVING UNo > ?', \n",
    "                  (q_id, qty))\n",
    "        sel = c.fetchall()\n",
    "        sel = [k for k, _ in sel]\n",
    "        values_no = ('?, '*len(sel))[:-2]\n",
    "        c.execute(f'UPDATE Answer SET AnswerText = ? WHERE QuestionID = ? and AnswerText NOT IN ({values_no})', \n",
    "                  (t_value, q_id, *sel))\n",
    "        conn.commit()\n",
    "        conn.close()\n",
    "    \n",
    "    def delete_participant_out_of_age_range(self, age_range):\n",
    "        ''' Delete users with their answers which age is out of the provided range.\n",
    "            age_range is a list. The deletion is done below [0] and above [1]. '''\n",
    "        conn = sqlite3.connect(f'{self.path}{self.db_name}.sqlite')\n",
    "        c = conn.cursor()\n",
    "        c.execute(f\"DELETE FROM Answer WHERE QuestionID = 1 and (CAST(AnswerText AS INTEGER) < ? or CAST(AnswerText AS INTEGER) > ?)\", (age_range[0], age_range[1]))\n",
    "        conn.commit()\n",
    "        conn.close()\n",
    "        \n",
    "    def change_column_value(self, column, v1, v2):\n",
    "        ''' Change v1 value to v2 for particular column. '''\n",
    "        conn = sqlite3.connect(f'{self.path}{self.db_name}.sqlite')\n",
    "        c = conn.cursor()\n",
    "        c.execute(f\"UPDATE Answer SET {column} = ? WHERE {column} = ?\", (v2, v1))\n",
    "        conn.commit()\n",
    "        conn.close()"
   ]
  },
  {
   "cell_type": "code",
   "execution_count": 3,
   "id": "searching-johnson",
   "metadata": {},
   "outputs": [],
   "source": [
    "answer_cleansing = SurveyCleaning('DB/', 'mental_health')"
   ]
  },
  {
   "cell_type": "code",
   "execution_count": 4,
   "id": "sufficient-vietnam",
   "metadata": {},
   "outputs": [
    {
     "name": "stdout",
     "output_type": "stream",
     "text": [
      "Backup saved successfully in DB/ directory.\n",
      "Saved as mental_health_backup.sqlite\n"
     ]
    }
   ],
   "source": [
    "answer_cleansing.backup()"
   ]
  },
  {
   "cell_type": "code",
   "execution_count": null,
   "id": "another-friendly",
   "metadata": {},
   "outputs": [],
   "source": [
    "answer_cleansing.clear_all_at_once()"
   ]
  }
 ],
 "metadata": {
  "kernelspec": {
   "display_name": "Python 3",
   "language": "python",
   "name": "python3"
  },
  "language_info": {
   "codemirror_mode": {
    "name": "ipython",
    "version": 3
   },
   "file_extension": ".py",
   "mimetype": "text/x-python",
   "name": "python",
   "nbconvert_exporter": "python",
   "pygments_lexer": "ipython3",
   "version": "3.7.6"
  }
 },
 "nbformat": 4,
 "nbformat_minor": 5
}
