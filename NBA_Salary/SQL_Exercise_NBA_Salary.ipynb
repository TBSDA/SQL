{
 "cells": [
  {
   "cell_type": "markdown",
   "id": "final-blink",
   "metadata": {},
   "source": [
    "# SQL exercises"
   ]
  },
  {
   "cell_type": "markdown",
   "id": "going-bridges",
   "metadata": {},
   "source": [
    "Based on NBA Salary and Statistics 2016-17. Source: https://www.kaggle.com/rikdifos/nba-salary-and-statistics-201617"
   ]
  },
  {
   "cell_type": "code",
   "execution_count": 1,
   "id": "female-robin",
   "metadata": {},
   "outputs": [],
   "source": [
    "# %load_ext sql"
   ]
  },
  {
   "cell_type": "code",
   "execution_count": 2,
   "id": "composite-sharp",
   "metadata": {},
   "outputs": [],
   "source": [
    "# %sql sqlite://"
   ]
  },
  {
   "cell_type": "code",
   "execution_count": 1,
   "id": "incorporated-network",
   "metadata": {},
   "outputs": [],
   "source": [
    "import pandas as pd\n",
    "import sqlite3"
   ]
  },
  {
   "cell_type": "markdown",
   "id": "hidden-detail",
   "metadata": {},
   "source": [
    "Show whole table content."
   ]
  },
  {
   "cell_type": "code",
   "execution_count": 2,
   "id": "internal-hearing",
   "metadata": {},
   "outputs": [],
   "source": [
    "def get_table(db_name, table):\n",
    "    conn = sqlite3.connect(f'DB/{db_name}.sqlite')\n",
    "    c = conn.cursor()\n",
    "    c.execute(f\"SELECT * FROM {table}\")\n",
    "    table = c.fetchall()\n",
    "    conn.commit()\n",
    "    conn.close()\n",
    "    return table"
   ]
  },
  {
   "cell_type": "code",
   "execution_count": 4,
   "id": "finite-court",
   "metadata": {},
   "outputs": [
    {
     "data": {
      "text/plain": [
       "[(1.0, 'Stephen Curry', 'GSW', 34682550.0),\n",
       " (2.0, 'LeBron James', 'CLE', 33285709.0),\n",
       " (3.0, 'Paul Millsap', 'DEN', 31269231.0),\n",
       " (4.0, 'Gordon Hayward', 'BOS', 29727900.0),\n",
       " (5.0, 'Blake Griffin', 'DET', 29512900.0),\n",
       " (6.0, 'Kyle Lowry', 'TOR', 28703704.0),\n",
       " (7.0, 'Russell Westbrook', 'OKC', 28530608.0),\n",
       " (8.0, 'Mike Conley', 'MEM', 28530608.0),\n",
       " (9.0, 'James Harden', 'HOU', 28299399.0),\n",
       " (10.0, 'DeMar DeRozan', 'TOR', 27739975.0)]"
      ]
     },
     "execution_count": 4,
     "metadata": {},
     "output_type": "execute_result"
    }
   ],
   "source": [
    "# db - nba_salary; table: NBA_season1718_salary, Seasons_Stats\n",
    "get_table('nba_salary', 'NBA_season1718_salary')[:10]"
   ]
  },
  {
   "cell_type": "markdown",
   "id": "graphic-johnston",
   "metadata": {},
   "source": [
    "Show columns from the table."
   ]
  },
  {
   "cell_type": "code",
   "execution_count": 5,
   "id": "vulnerable-there",
   "metadata": {},
   "outputs": [],
   "source": [
    "def get_columns(db_name, table):\n",
    "    conn = sqlite3.connect(f'DB/{db_name}.sqlite')\n",
    "    c = conn.cursor()\n",
    "    c.execute(f\"SELECT * FROM {table} LIMIT 1\")\n",
    "    cols = [x[0] for x in c.description]\n",
    "    conn.commit()\n",
    "    conn.close()\n",
    "    return cols"
   ]
  },
  {
   "cell_type": "code",
   "execution_count": 6,
   "id": "crazy-project",
   "metadata": {},
   "outputs": [
    {
     "data": {
      "text/plain": [
       "['X1', 'Player', 'Tm', 'season17_18']"
      ]
     },
     "execution_count": 6,
     "metadata": {},
     "output_type": "execute_result"
    }
   ],
   "source": [
    "get_columns('nba_salary', 'NBA_season1718_salary')"
   ]
  },
  {
   "cell_type": "markdown",
   "id": "median-gross",
   "metadata": {},
   "source": [
    "Show rows based on condition."
   ]
  },
  {
   "cell_type": "code",
   "execution_count": 7,
   "id": "demanding-november",
   "metadata": {},
   "outputs": [],
   "source": [
    "def get_team(db_name, table, team):\n",
    "    conn = sqlite3.connect(f'DB/{db_name}.sqlite')\n",
    "    c = conn.cursor()\n",
    "    c.execute(f\"SELECT * FROM {table} WHERE Tm = ?\", (team,))\n",
    "    table = c.fetchall()\n",
    "    conn.commit()\n",
    "    conn.close()\n",
    "    return table"
   ]
  },
  {
   "cell_type": "code",
   "execution_count": 8,
   "id": "experimental-memorial",
   "metadata": {},
   "outputs": [
    {
     "data": {
      "text/plain": [
       "[(4.0, 'Gordon Hayward', 'BOS', 29727900.0),\n",
       " (11.0, 'Al Horford', 'BOS', 27734405.0),\n",
       " (48.0, 'Kyrie Irving', 'BOS', 18868625.0),\n",
       " (186.0, 'Jayson Tatum', 'BOS', 5645400.0),\n",
       " (200.0, 'Marcus Morris', 'BOS', 5000000.0),\n",
       " (202.0, 'Greg Monroe', 'BOS', 5000000.0),\n",
       " (207.0, 'Jaylen Brown', 'BOS', 4956480.0),\n",
       " (212.0, 'Marcus Smart', 'BOS', 4538020.0),\n",
       " (218.0, 'Aron Baynes', 'BOS', 4328000.0),\n",
       " (308.0, 'Guerschon Yabusele', 'BOS', 2247480.0),\n",
       " (333.0, 'Terry Rozier', 'BOS', 1988520.0),\n",
       " (373.0, 'Shane Larkin', 'BOS', 1524305.0),\n",
       " (444.0, 'Semi Ojeleye', 'BOS', 1291892.0),\n",
       " (446.0, 'Abdel Nader', 'BOS', 1167333.0),\n",
       " (477.0, 'Daniel Theis', 'BOS', 815615.0),\n",
       " (517.0, 'Demetrius Jackson', 'BOS', 92858.0),\n",
       " (526.0, 'Jarell Eddie', 'BOS', 83129.0)]"
      ]
     },
     "execution_count": 8,
     "metadata": {},
     "output_type": "execute_result"
    }
   ],
   "source": [
    "get_team('nba_salary', 'NBA_season1718_salary', 'BOS')"
   ]
  },
  {
   "cell_type": "markdown",
   "id": "environmental-netscape",
   "metadata": {},
   "source": [
    "Show rows in ordered structure."
   ]
  },
  {
   "cell_type": "code",
   "execution_count": 9,
   "id": "artistic-rabbit",
   "metadata": {},
   "outputs": [],
   "source": [
    "def get_table_oldered_by_salary(db_name, table):\n",
    "    conn = sqlite3.connect(f'DB/{db_name}.sqlite')\n",
    "    c = conn.cursor()\n",
    "    c.execute(f\"SELECT * FROM {table} ORDER BY season17_18 DESC\") # ASC (default)\n",
    "    ordered_table = c.fetchall()\n",
    "    conn.commit()\n",
    "    conn.close()\n",
    "    return ordered_table"
   ]
  },
  {
   "cell_type": "code",
   "execution_count": 10,
   "id": "directed-speed",
   "metadata": {},
   "outputs": [
    {
     "data": {
      "text/plain": [
       "[(1.0, 'Stephen Curry', 'GSW', 34682550.0),\n",
       " (2.0, 'LeBron James', 'CLE', 33285709.0),\n",
       " (3.0, 'Paul Millsap', 'DEN', 31269231.0),\n",
       " (4.0, 'Gordon Hayward', 'BOS', 29727900.0),\n",
       " (5.0, 'Blake Griffin', 'DET', 29512900.0),\n",
       " (6.0, 'Kyle Lowry', 'TOR', 28703704.0),\n",
       " (7.0, 'Russell Westbrook', 'OKC', 28530608.0),\n",
       " (8.0, 'Mike Conley', 'MEM', 28530608.0),\n",
       " (9.0, 'James Harden', 'HOU', 28299399.0),\n",
       " (10.0, 'DeMar DeRozan', 'TOR', 27739975.0)]"
      ]
     },
     "execution_count": 10,
     "metadata": {},
     "output_type": "execute_result"
    }
   ],
   "source": [
    "get_table_oldered_by_salary('nba_salary', 'NBA_season1718_salary')[:10]"
   ]
  },
  {
   "cell_type": "markdown",
   "id": "charged-participation",
   "metadata": {},
   "source": [
    "Show rows in ordered structure with limit."
   ]
  },
  {
   "cell_type": "code",
   "execution_count": 11,
   "id": "indonesian-saver",
   "metadata": {},
   "outputs": [],
   "source": [
    "def get_subtable_oldered_by_salary(db_name, table, limit):\n",
    "    conn = sqlite3.connect(f'DB/{db_name}.sqlite')\n",
    "    c = conn.cursor()\n",
    "    c.execute(f\"SELECT * FROM {table} ORDER BY season17_18 ASC LIMIT ?\", (limit,))\n",
    "    ordered_subtable = c.fetchall()\n",
    "    conn.commit()\n",
    "    conn.close()\n",
    "    return ordered_subtable"
   ]
  },
  {
   "cell_type": "code",
   "execution_count": 12,
   "id": "occasional-queens",
   "metadata": {},
   "outputs": [
    {
     "data": {
      "text/plain": [
       "[(573.0, 'Jarell Eddie', 'CHI', 17224.0),\n",
       " (572.0, 'Joel Bolomboy', 'MIL', 22248.0),\n",
       " (568.0, 'Axel Toupane', 'NOP', 25000.0),\n",
       " (569.0, 'Quinn Cook', 'NOP', 25000.0),\n",
       " (570.0, 'Chris Johnson', 'HOU', 25000.0),\n",
       " (571.0, 'Beno Udrih', 'DET', 25000.0),\n",
       " (567.0, 'DeAndre Liggins', 'ATL', 26773.0),\n",
       " (560.0, 'Nigel Hayes', 'LAL', 46080.0),\n",
       " (561.0, 'Nigel Hayes', 'TOR', 46080.0),\n",
       " (562.0, 'Rodney Purvis', 'ORL', 46080.0)]"
      ]
     },
     "execution_count": 12,
     "metadata": {},
     "output_type": "execute_result"
    }
   ],
   "source": [
    "get_subtable_oldered_by_salary('nba_salary', 'NBA_season1718_salary', 10)"
   ]
  },
  {
   "cell_type": "markdown",
   "id": "described-prize",
   "metadata": {},
   "source": [
    "Show rows in ordered structure with limit and shifted by offset."
   ]
  },
  {
   "cell_type": "code",
   "execution_count": 13,
   "id": "gentle-locator",
   "metadata": {},
   "outputs": [],
   "source": [
    "def get_subtable_oldered_by_salary2(db_name, table, limit, offset):\n",
    "    conn = sqlite3.connect(f'DB/{db_name}.sqlite')\n",
    "    c = conn.cursor()\n",
    "    c.execute(f\"SELECT * FROM {table} ORDER BY season17_18 ASC LIMIT ? OFFSET ?\", (limit, offset))\n",
    "    ordered_subtable = c.fetchall()\n",
    "    conn.commit()\n",
    "    conn.close()\n",
    "    return ordered_subtable"
   ]
  },
  {
   "cell_type": "code",
   "execution_count": 14,
   "id": "willing-origin",
   "metadata": {},
   "outputs": [
    {
     "data": {
      "text/plain": [
       "[(571.0, 'Beno Udrih', 'DET', 25000.0),\n",
       " (567.0, 'DeAndre Liggins', 'ATL', 26773.0),\n",
       " (560.0, 'Nigel Hayes', 'LAL', 46080.0),\n",
       " (561.0, 'Nigel Hayes', 'TOR', 46080.0),\n",
       " (562.0, 'Rodney Purvis', 'ORL', 46080.0),\n",
       " (563.0, 'Xavier Rathan-Mayes', 'MEM', 46080.0),\n",
       " (564.0, 'Trey McKinney-Jones', 'IND', 46080.0),\n",
       " (565.0, 'Jameel Warney', 'DAL', 46080.0),\n",
       " (566.0, 'Marcus Thornton', 'CLE', 46080.0),\n",
       " (534.0, 'Tyler Cavanaugh', 'ATL', 50000.0)]"
      ]
     },
     "execution_count": 14,
     "metadata": {},
     "output_type": "execute_result"
    }
   ],
   "source": [
    "get_subtable_oldered_by_salary2('nba_salary', 'NBA_season1718_salary', 10, 5)"
   ]
  },
  {
   "cell_type": "markdown",
   "id": "broad-pattern",
   "metadata": {},
   "source": [
    "Show average team salary."
   ]
  },
  {
   "cell_type": "code",
   "execution_count": 15,
   "id": "surprising-hollywood",
   "metadata": {},
   "outputs": [],
   "source": [
    "def get_avg_team_salary(db_name, table):\n",
    "    conn = sqlite3.connect(f'DB/{db_name}.sqlite')\n",
    "    c = conn.cursor()\n",
    "    c.execute(f\"SELECT Tm, AVG(season17_18)  FROM {table} GROUP BY Tm\") # COUNT(), MAX(), MIN(), SUM(), AVG()\n",
    "    table = c.fetchall()\n",
    "    conn.commit()\n",
    "    conn.close()\n",
    "    return table"
   ]
  },
  {
   "cell_type": "code",
   "execution_count": 16,
   "id": "removable-offset",
   "metadata": {},
   "outputs": [
    {
     "data": {
      "text/plain": [
       "[('ATL', 3711770.2592592593),\n",
       " ('BOS', 6765291.882352941),\n",
       " ('BRK', 5335542.888888889),\n",
       " ('CHI', 3726043.4166666665),\n",
       " ('CHO', 8373440.285714285),\n",
       " ('CLE', 9806324.92857143),\n",
       " ('DAL', 3900970.9545454546),\n",
       " ('DEN', 6743068.6875),\n",
       " ('DET', 6004305.25),\n",
       " ('GSW', 8593427.8125),\n",
       " ('HOU', 5410185.5),\n",
       " ('IND', 4969989.0),\n",
       " ('LAC', 5945358.15),\n",
       " ('LAL', 4788884.090909091),\n",
       " ('MEM', 5505203.05),\n",
       " ('MIA', 7290145.777777778),\n",
       " ('MIL', 5485741.7272727275),\n",
       " ('MIN', 7341784.625),\n",
       " ('NOP', 5701217.666666667),\n",
       " ('NYK', 5135971.666666667),\n",
       " ('OKC', 8952937.066666666),\n",
       " ('ORL', 5701526.705882353),\n",
       " ('PHI', 5039713.9),\n",
       " ('PHO', 4515158.714285715),\n",
       " ('POR', 6268890.736842105),\n",
       " ('SAC', 4781376.4),\n",
       " ('SAS', 6832562.0),\n",
       " ('TOR', 6854635.05882353),\n",
       " ('UTA', 5373250.7),\n",
       " ('WAS', 6898880.111111111)]"
      ]
     },
     "execution_count": 16,
     "metadata": {},
     "output_type": "execute_result"
    }
   ],
   "source": [
    "get_avg_team_salary('nba_salary', 'NBA_season1718_salary')"
   ]
  },
  {
   "cell_type": "markdown",
   "id": "rubber-sewing",
   "metadata": {},
   "source": [
    "Show average salary for Boston players using Having."
   ]
  },
  {
   "cell_type": "code",
   "execution_count": 17,
   "id": "wound-huntington",
   "metadata": {},
   "outputs": [],
   "source": [
    "def get_avg_boston_salary(db_name, table):\n",
    "    conn = sqlite3.connect(f'DB/{db_name}.sqlite')\n",
    "    c = conn.cursor()\n",
    "    c.execute(f\"SELECT Tm, AVG(season17_18)  FROM {table} GROUP BY Tm HAVING Tm = ?\", ('BOS',))\n",
    "    avg = c.fetchall()\n",
    "    conn.commit()\n",
    "    conn.close()\n",
    "    return avg"
   ]
  },
  {
   "cell_type": "code",
   "execution_count": 18,
   "id": "mineral-eleven",
   "metadata": {},
   "outputs": [
    {
     "data": {
      "text/plain": [
       "[('BOS', 6765291.882352941)]"
      ]
     },
     "execution_count": 18,
     "metadata": {},
     "output_type": "execute_result"
    }
   ],
   "source": [
    "get_avg_boston_salary('nba_salary', 'NBA_season1718_salary')"
   ]
  },
  {
   "cell_type": "markdown",
   "id": "announced-aurora",
   "metadata": {},
   "source": [
    "Show distinct table. "
   ]
  },
  {
   "cell_type": "code",
   "execution_count": 19,
   "id": "damaged-address",
   "metadata": {},
   "outputs": [],
   "source": [
    "def get_boston_salaries(db_name, table):\n",
    "    conn = sqlite3.connect(f'DB/{db_name}.sqlite')\n",
    "    c = conn.cursor()\n",
    "    c.execute(f\"SELECT season17_18 FROM {table} WHERE Tm = ?\", ('BOS',))\n",
    "    salaries = c.fetchall()\n",
    "    conn.commit()\n",
    "    conn.close()\n",
    "    return salaries"
   ]
  },
  {
   "cell_type": "code",
   "execution_count": 20,
   "id": "rocky-dependence",
   "metadata": {},
   "outputs": [
    {
     "data": {
      "text/plain": [
       "[(29727900.0,),\n",
       " (27734405.0,),\n",
       " (18868625.0,),\n",
       " (5645400.0,),\n",
       " (5000000.0,),\n",
       " (5000000.0,),\n",
       " (4956480.0,),\n",
       " (4538020.0,),\n",
       " (4328000.0,),\n",
       " (2247480.0,),\n",
       " (1988520.0,),\n",
       " (1524305.0,),\n",
       " (1291892.0,),\n",
       " (1167333.0,),\n",
       " (815615.0,),\n",
       " (92858.0,),\n",
       " (83129.0,)]"
      ]
     },
     "execution_count": 20,
     "metadata": {},
     "output_type": "execute_result"
    }
   ],
   "source": [
    "get_boston_salaries('nba_salary', 'NBA_season1718_salary')"
   ]
  },
  {
   "cell_type": "code",
   "execution_count": 21,
   "id": "hawaiian-monster",
   "metadata": {},
   "outputs": [],
   "source": [
    "def get_unique_boston_salaries(db_name, table):\n",
    "    conn = sqlite3.connect(f'DB/{db_name}.sqlite')\n",
    "    c = conn.cursor()\n",
    "    c.execute(f\"SELECT DISTINCT season17_18 FROM {table} WHERE Tm = ?\", ('BOS',))\n",
    "    u_salaries = c.fetchall()\n",
    "    conn.commit()\n",
    "    conn.close()\n",
    "    return u_salaries"
   ]
  },
  {
   "cell_type": "code",
   "execution_count": 22,
   "id": "fluid-appointment",
   "metadata": {},
   "outputs": [
    {
     "data": {
      "text/plain": [
       "[(29727900.0,),\n",
       " (27734405.0,),\n",
       " (18868625.0,),\n",
       " (5645400.0,),\n",
       " (5000000.0,),\n",
       " (4956480.0,),\n",
       " (4538020.0,),\n",
       " (4328000.0,),\n",
       " (2247480.0,),\n",
       " (1988520.0,),\n",
       " (1524305.0,),\n",
       " (1291892.0,),\n",
       " (1167333.0,),\n",
       " (815615.0,),\n",
       " (92858.0,),\n",
       " (83129.0,)]"
      ]
     },
     "execution_count": 22,
     "metadata": {},
     "output_type": "execute_result"
    }
   ],
   "source": [
    "get_unique_boston_salaries('nba_salary', 'NBA_season1718_salary')"
   ]
  },
  {
   "cell_type": "markdown",
   "id": "intelligent-animal",
   "metadata": {},
   "source": [
    "Show rows in salary range."
   ]
  },
  {
   "cell_type": "code",
   "execution_count": 23,
   "id": "increased-litigation",
   "metadata": {},
   "outputs": [],
   "source": [
    "def get_table_salary_range(db_name, table, low, high):\n",
    "    conn = sqlite3.connect(f'DB/{db_name}.sqlite')\n",
    "    c = conn.cursor()\n",
    "    c.execute(f\"SELECT * FROM {table} WHERE season17_18 BETWEEN ? and ?\", (low, high))\n",
    "    table = c.fetchall()\n",
    "    conn.commit()\n",
    "    conn.close()\n",
    "    return table"
   ]
  },
  {
   "cell_type": "code",
   "execution_count": 25,
   "id": "painted-affiliate",
   "metadata": {},
   "outputs": [
    {
     "data": {
      "text/plain": [
       "[(1.0, 'Stephen Curry', 'GSW', 34682550.0),\n",
       " (2.0, 'LeBron James', 'CLE', 33285709.0),\n",
       " (3.0, 'Paul Millsap', 'DEN', 31269231.0),\n",
       " (4.0, 'Gordon Hayward', 'BOS', 29727900.0),\n",
       " (5.0, 'Blake Griffin', 'DET', 29512900.0),\n",
       " (6.0, 'Kyle Lowry', 'TOR', 28703704.0),\n",
       " (7.0, 'Russell Westbrook', 'OKC', 28530608.0),\n",
       " (8.0, 'Mike Conley', 'MEM', 28530608.0),\n",
       " (9.0, 'James Harden', 'HOU', 28299399.0),\n",
       " (10.0, 'DeMar DeRozan', 'TOR', 27739975.0)]"
      ]
     },
     "execution_count": 25,
     "metadata": {},
     "output_type": "execute_result"
    }
   ],
   "source": [
    "get_table_salary_range('nba_salary', 'NBA_season1718_salary', 1000000, 50000000)[:10]"
   ]
  },
  {
   "cell_type": "markdown",
   "id": "liable-recall",
   "metadata": {},
   "source": [
    "Show rows where salary match the list."
   ]
  },
  {
   "cell_type": "code",
   "execution_count": 26,
   "id": "preceding-glucose",
   "metadata": {},
   "outputs": [],
   "source": [
    "salary_list = [1000000, 2000000]"
   ]
  },
  {
   "cell_type": "code",
   "execution_count": 27,
   "id": "neural-facility",
   "metadata": {},
   "outputs": [],
   "source": [
    "def get_table_for_salary_list(db_name, table, s_list):\n",
    "    conn = sqlite3.connect(f'DB/{db_name}.sqlite')\n",
    "    c = conn.cursor()\n",
    "    values_no = ('?, '*len(s_list))[:-2]\n",
    "    c.execute(f\"SELECT * FROM {table} WHERE season17_18 IN ({values_no})\", (s_list))\n",
    "    table = c.fetchall()\n",
    "    conn.commit()\n",
    "    conn.close()\n",
    "    return table"
   ]
  },
  {
   "cell_type": "code",
   "execution_count": 28,
   "id": "interesting-smile",
   "metadata": {},
   "outputs": [
    {
     "data": {
      "text/plain": [
       "[(331.0, 'Tim Frazier', 'WAS', 2000000.0),\n",
       " (332.0, 'Anthony Tolliver', 'SAC', 2000000.0),\n",
       " (452.0, 'Justin Hamilton', 'TOR', 1000000.0),\n",
       " (453.0, 'Gerald Henderson', 'PHI', 1000000.0)]"
      ]
     },
     "execution_count": 28,
     "metadata": {},
     "output_type": "execute_result"
    }
   ],
   "source": [
    "get_table_for_salary_list('nba_salary', 'NBA_season1718_salary', salary_list)"
   ]
  },
  {
   "cell_type": "markdown",
   "id": "forward-temperature",
   "metadata": {},
   "source": [
    "Show rows based on salary pattern (e.g. all 8 figures salaries)."
   ]
  },
  {
   "cell_type": "code",
   "execution_count": 29,
   "id": "hydraulic-browser",
   "metadata": {},
   "outputs": [],
   "source": [
    "def get_table_for_salary_pattern(db_name, table, pattern):\n",
    "    conn = sqlite3.connect(f'DB/{db_name}.sqlite')\n",
    "    c = conn.cursor()\n",
    "    c.execute(f\"SELECT * FROM {table} WHERE season17_18 LIKE '{pattern}'\")\n",
    "    table = c.fetchall()\n",
    "    conn.commit()\n",
    "    conn.close()\n",
    "    return table"
   ]
  },
  {
   "cell_type": "code",
   "execution_count": 30,
   "id": "unlikely-artist",
   "metadata": {},
   "outputs": [],
   "source": [
    "# pat = '%'  # '%' wildcard\n",
    "# pat = '1%'\n",
    "# pat = '%000%'\n",
    "# pat = '_'*10 # '_' eq one char\n",
    "# pat = '1'+'_'*8\n",
    "pat = '%000__'"
   ]
  },
  {
   "cell_type": "code",
   "execution_count": 32,
   "id": "preceding-government",
   "metadata": {},
   "outputs": [
    {
     "data": {
      "text/plain": [
       "[(16.0, 'Kevin Durant', 'GSW', 25000000.0),\n",
       " (24.0, 'Dwight Howard', 'CHO', 23500000.0),\n",
       " (27.0, 'J.J. Redick', 'PHI', 23000000.0),\n",
       " (37.0, 'Victor Oladipo', 'IND', 21000000.0),\n",
       " (41.0, 'George Hill', 'CLE', 20000000.0),\n",
       " (46.0, 'Jeff Teague', 'MIN', 19000000.0),\n",
       " (54.0, 'Joakim Noah', 'NYK', 17765000.0),\n",
       " (56.0, 'Luol Deng', 'LAL', 17190000.0),\n",
       " (59.0, 'Evan Fournier', 'ORL', 17000000.0),\n",
       " (60.0, 'Bismack Biyombo', 'ORL', 17000000.0)]"
      ]
     },
     "execution_count": 32,
     "metadata": {},
     "output_type": "execute_result"
    }
   ],
   "source": [
    "get_table_for_salary_pattern('nba_salary', 'NBA_season1718_salary', pat)[:10]"
   ]
  },
  {
   "cell_type": "markdown",
   "id": "brief-satellite",
   "metadata": {},
   "source": [
    "Show rows (if any) with nan salary value."
   ]
  },
  {
   "cell_type": "code",
   "execution_count": 33,
   "id": "bright-document",
   "metadata": {},
   "outputs": [],
   "source": [
    "def get_rows_w_nan_salary(db_name, table):\n",
    "    conn = sqlite3.connect(f'DB/{db_name}.sqlite')\n",
    "    c = conn.cursor()\n",
    "    c.execute(f\"SELECT * FROM {table} WHERE season17_18 IS NULL\")\n",
    "    nan_rows = c.fetchall()\n",
    "    conn.commit()\n",
    "    conn.close()\n",
    "    return nan_rows"
   ]
  },
  {
   "cell_type": "code",
   "execution_count": 34,
   "id": "pregnant-transparency",
   "metadata": {},
   "outputs": [
    {
     "data": {
      "text/plain": [
       "[]"
      ]
     },
     "execution_count": 34,
     "metadata": {},
     "output_type": "execute_result"
    }
   ],
   "source": [
    "get_rows_w_nan_salary('nba_salary', 'NBA_season1718_salary')"
   ]
  },
  {
   "cell_type": "markdown",
   "id": "expensive-option",
   "metadata": {},
   "source": [
    "Let's add new column to the NBA_season1718_salary table and fill it out based on column from Seasons_Stats"
   ]
  },
  {
   "cell_type": "code",
   "execution_count": 36,
   "id": "distinct-promise",
   "metadata": {},
   "outputs": [],
   "source": [
    "# hidden because of too long output\n",
    "# get_table('nba_salary', 'Seasons_Stats')"
   ]
  },
  {
   "cell_type": "code",
   "execution_count": 37,
   "id": "premier-stone",
   "metadata": {},
   "outputs": [
    {
     "data": {
      "text/plain": [
       "['X1',\n",
       " 'Year',\n",
       " 'Player',\n",
       " 'Pos',\n",
       " 'Age',\n",
       " 'Tm',\n",
       " 'G',\n",
       " 'GS',\n",
       " 'MP',\n",
       " 'PER',\n",
       " 'TS%',\n",
       " '3PAr',\n",
       " 'FTr',\n",
       " 'ORB%',\n",
       " 'DRB%',\n",
       " 'TRB%',\n",
       " 'AST%',\n",
       " 'STL%',\n",
       " 'BLK%',\n",
       " 'TOV%',\n",
       " 'USG%',\n",
       " 'blanl',\n",
       " 'OWS',\n",
       " 'DWS',\n",
       " 'WS',\n",
       " 'WS/48',\n",
       " 'blank2',\n",
       " 'OBPM',\n",
       " 'DBPM',\n",
       " 'BPM',\n",
       " 'VORP',\n",
       " 'FG',\n",
       " 'FGA',\n",
       " 'FG%',\n",
       " '3P',\n",
       " '3PA',\n",
       " '3P%',\n",
       " '2P',\n",
       " '2PA',\n",
       " '2P%',\n",
       " 'eFG%',\n",
       " 'FT',\n",
       " 'FTA',\n",
       " 'FT%',\n",
       " 'ORB',\n",
       " 'DRB',\n",
       " 'TRB',\n",
       " 'AST',\n",
       " 'STL',\n",
       " 'BLK',\n",
       " 'TOV',\n",
       " 'PF',\n",
       " 'PTS']"
      ]
     },
     "execution_count": 37,
     "metadata": {},
     "output_type": "execute_result"
    }
   ],
   "source": [
    "get_columns('nba_salary', 'Seasons_Stats')"
   ]
  },
  {
   "cell_type": "markdown",
   "id": "oriented-bangkok",
   "metadata": {},
   "source": [
    "Add column to the NBA_season1718_salary table."
   ]
  },
  {
   "cell_type": "code",
   "execution_count": 38,
   "id": "quarterly-sponsorship",
   "metadata": {},
   "outputs": [],
   "source": [
    "def add_column(db_name, table, column):\n",
    "    conn = sqlite3.connect(f'DB/{db_name}.sqlite')\n",
    "    c = conn.cursor()\n",
    "    c.execute(f\"ALTER TABLE {table} ADD {column} INT\")\n",
    "    conn.commit()\n",
    "    conn.close()"
   ]
  },
  {
   "cell_type": "code",
   "execution_count": 39,
   "id": "judicial-beginning",
   "metadata": {},
   "outputs": [],
   "source": [
    "add_column('nba_salary', 'NBA_season1718_salary', 'Age')"
   ]
  },
  {
   "cell_type": "code",
   "execution_count": 40,
   "id": "bronze-punishment",
   "metadata": {},
   "outputs": [
    {
     "data": {
      "text/plain": [
       "['X1', 'Player', 'Tm', 'season17_18', 'Age']"
      ]
     },
     "execution_count": 40,
     "metadata": {},
     "output_type": "execute_result"
    }
   ],
   "source": [
    "get_columns('nba_salary', 'NBA_season1718_salary')"
   ]
  },
  {
   "cell_type": "markdown",
   "id": "completed-showcase",
   "metadata": {},
   "source": [
    "Updating the NBA_season1718_salary table with Seasons_Stats data based on Player column."
   ]
  },
  {
   "cell_type": "code",
   "execution_count": 41,
   "id": "unique-suspect",
   "metadata": {},
   "outputs": [],
   "source": [
    "def join_column_to_table(db_name, table, table2, column):\n",
    "    conn = sqlite3.connect(f'DB/{db_name}.sqlite')\n",
    "    c = conn.cursor()\n",
    "    c.execute(f'SELECT Player, {column} FROM {table2}')\n",
    "    t = c.fetchall()\n",
    "    ply_age = dict(t)\n",
    "    for k, v in ply_age.items():\n",
    "        c.execute(f\"UPDATE {table} SET {column} = ? WHERE Player = ?\", (v, k))\n",
    "    conn.commit()\n",
    "    conn.close()"
   ]
  },
  {
   "cell_type": "code",
   "execution_count": 108,
   "id": "administrative-farmer",
   "metadata": {},
   "outputs": [],
   "source": [
    "#sqlite3 (3.33+)\n",
    "#     c.execute(f\"\"\"UPDATE {table}\n",
    "#               SET {table}.Age = {table2}.Age\n",
    "#               FROM {table2}\n",
    "#               WHERE {table2}.Player = {table}.Player\"\"\")\n",
    "#sqlite3 (3.33+) v2\n",
    "#     c.execute(f\"\"\"UPDATE {table}\n",
    "#               SET {table}.{column} = {table2}.{column}\n",
    "#               FROM (SELECT Player, {column} FROM {table2}) AS t2\n",
    "#               WHERE t2.Player = {table}.Player\"\"\")\n",
    "#Mysql\n",
    "#     c.execute(f\"\"\"UPDATE {table} JOIN\n",
    "#               (SELECT Player, {column} FROM {table2}) AS t2\n",
    "#               USING(Player) \n",
    "#               SET {table}.{column} = t2.{column}\"\"\")\n",
    "#Mysql    \n",
    "#         c.execute(f\"\"\"UPDATE {table} AS t1 \n",
    "#               INNER JOIN {table2} AS t2 \n",
    "#               ON (t1.Player = t2.Player) \n",
    "#               SET (t1.Age = t2.Age)\"\"\")"
   ]
  },
  {
   "cell_type": "code",
   "execution_count": 42,
   "id": "sorted-level",
   "metadata": {},
   "outputs": [],
   "source": [
    "join_column_to_table('nba_salary', 'NBA_season1718_salary', 'Seasons_Stats', 'Age')"
   ]
  },
  {
   "cell_type": "markdown",
   "id": "departmental-reduction",
   "metadata": {},
   "source": [
    "Verify whether the Age column is updated."
   ]
  },
  {
   "cell_type": "code",
   "execution_count": 44,
   "id": "insured-nothing",
   "metadata": {},
   "outputs": [
    {
     "data": {
      "text/plain": [
       "[(1.0, 'Stephen Curry', 'GSW', 34682550.0, 28),\n",
       " (2.0, 'LeBron James', 'CLE', 33285709.0, 32),\n",
       " (3.0, 'Paul Millsap', 'DEN', 31269231.0, 31),\n",
       " (4.0, 'Gordon Hayward', 'BOS', 29727900.0, 26),\n",
       " (5.0, 'Blake Griffin', 'DET', 29512900.0, 27),\n",
       " (6.0, 'Kyle Lowry', 'TOR', 28703704.0, 30),\n",
       " (7.0, 'Russell Westbrook', 'OKC', 28530608.0, 28),\n",
       " (8.0, 'Mike Conley', 'MEM', 28530608.0, 29),\n",
       " (9.0, 'James Harden', 'HOU', 28299399.0, 27),\n",
       " (10.0, 'DeMar DeRozan', 'TOR', 27739975.0, 27)]"
      ]
     },
     "execution_count": 44,
     "metadata": {},
     "output_type": "execute_result"
    }
   ],
   "source": [
    "get_table('nba_salary', 'NBA_season1718_salary')[:10]"
   ]
  },
  {
   "cell_type": "markdown",
   "id": "organized-grace",
   "metadata": {},
   "source": [
    "Show rows with nan values in particular column."
   ]
  },
  {
   "cell_type": "code",
   "execution_count": 45,
   "id": "turned-ebony",
   "metadata": {},
   "outputs": [],
   "source": [
    "def get_rows_w_nan_column(db_name, table, column):\n",
    "    conn = sqlite3.connect(f'DB/{db_name}.sqlite')\n",
    "    c = conn.cursor()\n",
    "    c.execute(f\"SELECT * FROM {table} WHERE {column} IS NULL\")\n",
    "    table = c.fetchall()\n",
    "    conn.commit()\n",
    "    conn.close()\n",
    "    return table"
   ]
  },
  {
   "cell_type": "code",
   "execution_count": 47,
   "id": "worldwide-spencer",
   "metadata": {},
   "outputs": [
    {
     "data": {
      "text/plain": [
       "[(131.0, 'Bogdan Bogdanovic', 'SAC', 9470614.0, None),\n",
       " (157.0, 'Markelle Fultz', 'PHI', 7026240.0, None),\n",
       " (169.0, 'Lonzo Ball', 'LAL', 6286560.0, None),\n",
       " (173.0, 'Ben Simmons', 'PHI', 6168840.0, None),\n",
       " (180.0, 'Milos Teodosic', 'LAC', 6000000.0, None),\n",
       " (186.0, 'Jayson Tatum', 'BOS', 5645400.0, None),\n",
       " (199.0, 'Josh Jackson', 'PHO', 5090040.0, None),\n",
       " (211.0, \"De'Aaron Fox\", 'SAC', 4609200.0, None),\n",
       " (221.0, 'Jonathan Isaac', 'ORL', 4186320.0, None),\n",
       " (231.0, 'Lauri Markkanen', 'CHI', 3821640.0, None)]"
      ]
     },
     "execution_count": 47,
     "metadata": {},
     "output_type": "execute_result"
    }
   ],
   "source": [
    "get_rows_w_nan_column('nba_salary', 'NBA_season1718_salary', 'Age')[:10]"
   ]
  },
  {
   "cell_type": "markdown",
   "id": "favorite-walnut",
   "metadata": {},
   "source": [
    "Add new Player to the NBA_season1718_salary table."
   ]
  },
  {
   "cell_type": "code",
   "execution_count": 48,
   "id": "historic-polyester",
   "metadata": {},
   "outputs": [],
   "source": [
    "def add_new_player(db_name, table, player_name, team, salary, age):\n",
    "    conn = sqlite3.connect(f'DB/{db_name}.sqlite')\n",
    "    c = conn.cursor()\n",
    "    index = get_last_index(db_name, table)\n",
    "    c.execute(f\"INSERT INTO {table} VALUES (?, ?, ?, ?, ?)\", (index, player_name, team, salary, age))\n",
    "    conn.commit()\n",
    "    conn.close()"
   ]
  },
  {
   "cell_type": "code",
   "execution_count": 49,
   "id": "absent-navigator",
   "metadata": {},
   "outputs": [],
   "source": [
    "def get_last_index(db_name, table):\n",
    "    conn = sqlite3.connect(f'DB/{db_name}.sqlite')\n",
    "    c = conn.cursor()\n",
    "    c.execute(f\"SELECT X1 FROM {table}\")\n",
    "    index = c.fetchall()[-1][0]\n",
    "    conn.commit()\n",
    "    conn.close()\n",
    "    return index"
   ]
  },
  {
   "cell_type": "code",
   "execution_count": 50,
   "id": "alien-policy",
   "metadata": {},
   "outputs": [],
   "source": [
    "add_new_player('nba_salary', 'NBA_season1718_salary', 'John Johnson', 'DreamTeam', '1', '42')"
   ]
  },
  {
   "cell_type": "markdown",
   "id": "finite-dining",
   "metadata": {},
   "source": [
    "Verify the result."
   ]
  },
  {
   "cell_type": "code",
   "execution_count": 51,
   "id": "manufactured-coalition",
   "metadata": {},
   "outputs": [],
   "source": [
    "def get_player(db_name, table, player):\n",
    "    conn = sqlite3.connect(f'DB/{db_name}.sqlite')\n",
    "    c = conn.cursor()\n",
    "    c.execute(f\"SELECT * FROM {table} WHERE Player = ?\", (player,))\n",
    "    player = c.fetchall()\n",
    "    conn.commit()\n",
    "    conn.close()\n",
    "    return player"
   ]
  },
  {
   "cell_type": "code",
   "execution_count": 52,
   "id": "liable-noise",
   "metadata": {},
   "outputs": [
    {
     "data": {
      "text/plain": [
       "[(573.0, 'John Johnson', 'DreamTeam', 1.0, 42)]"
      ]
     },
     "execution_count": 52,
     "metadata": {},
     "output_type": "execute_result"
    }
   ],
   "source": [
    "get_player('nba_salary', 'NBA_season1718_salary', 'John Johnson')"
   ]
  },
  {
   "cell_type": "markdown",
   "id": "monetary-calendar",
   "metadata": {},
   "source": [
    "Delete the player form the table."
   ]
  },
  {
   "cell_type": "code",
   "execution_count": 53,
   "id": "lonely-baghdad",
   "metadata": {},
   "outputs": [],
   "source": [
    "def delete_player(db_name, table, player):\n",
    "    conn = sqlite3.connect(f'DB/{db_name}.sqlite')\n",
    "    c = conn.cursor()\n",
    "    c.execute(f\"DELETE FROM {table} WHERE Player = ?\", (player,))\n",
    "    conn.commit()\n",
    "    conn.close()"
   ]
  },
  {
   "cell_type": "code",
   "execution_count": 54,
   "id": "superior-emperor",
   "metadata": {},
   "outputs": [],
   "source": [
    "delete_player('nba_salary', 'NBA_season1718_salary', 'John Johnson')"
   ]
  },
  {
   "cell_type": "markdown",
   "id": "coral-planet",
   "metadata": {},
   "source": [
    "Verify the result."
   ]
  },
  {
   "cell_type": "code",
   "execution_count": 55,
   "id": "standard-conviction",
   "metadata": {},
   "outputs": [
    {
     "data": {
      "text/plain": [
       "[]"
      ]
     },
     "execution_count": 55,
     "metadata": {},
     "output_type": "execute_result"
    }
   ],
   "source": [
    "get_player('nba_salary', 'NBA_season1718_salary', 'John Johnson')"
   ]
  },
  {
   "cell_type": "markdown",
   "id": "found-pixel",
   "metadata": {},
   "source": [
    "Delete whole column."
   ]
  },
  {
   "cell_type": "code",
   "execution_count": 56,
   "id": "environmental-scout",
   "metadata": {},
   "outputs": [],
   "source": [
    "def delete_column(db_name, table, column):\n",
    "    conn = sqlite3.connect(f'DB/{db_name}.sqlite')\n",
    "    c = conn.cursor()\n",
    "    c.execute(f\"ALTER TABLE {table} DROP COLUMN {column}\")\n",
    "    conn.commit()\n",
    "    conn.close()"
   ]
  },
  {
   "cell_type": "code",
   "execution_count": 57,
   "id": "eligible-appendix",
   "metadata": {},
   "outputs": [],
   "source": [
    "delete_column('nba_salary', 'NBA_season1718_salary', 'Age')"
   ]
  },
  {
   "cell_type": "markdown",
   "id": "opened-pixel",
   "metadata": {},
   "source": [
    "Verify the result."
   ]
  },
  {
   "cell_type": "code",
   "execution_count": 58,
   "id": "circular-virginia",
   "metadata": {},
   "outputs": [
    {
     "data": {
      "text/plain": [
       "['X1', 'Player', 'Tm', 'season17_18']"
      ]
     },
     "execution_count": 58,
     "metadata": {},
     "output_type": "execute_result"
    }
   ],
   "source": [
    "get_columns('nba_salary', 'NBA_season1718_salary')"
   ]
  }
 ],
 "metadata": {
  "kernelspec": {
   "display_name": "Python 3",
   "language": "python",
   "name": "python3"
  },
  "language_info": {
   "codemirror_mode": {
    "name": "ipython",
    "version": 3
   },
   "file_extension": ".py",
   "mimetype": "text/x-python",
   "name": "python",
   "nbconvert_exporter": "python",
   "pygments_lexer": "ipython3",
   "version": "3.7.6"
  }
 },
 "nbformat": 4,
 "nbformat_minor": 5
}
